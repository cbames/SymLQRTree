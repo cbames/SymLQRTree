{
 "cells": [
  {
   "cell_type": "code",
   "execution_count": 1,
   "metadata": {},
   "outputs": [],
   "source": [
    "import networkx as nx\n",
    "import matplotlib.pyplot as plt\n",
    "import numpy as np"
   ]
  },
  {
   "cell_type": "code",
   "execution_count": 2,
   "metadata": {},
   "outputs": [
    {
     "name": "stdout",
     "output_type": "stream",
     "text": [
      "2.4\n"
     ]
    }
   ],
   "source": [
    "print(nx.__version__)"
   ]
  },
  {
   "cell_type": "code",
   "execution_count": 32,
   "metadata": {},
   "outputs": [
    {
     "name": "stdout",
     "output_type": "stream",
     "text": [
      "node 1 before adding property  {}\n",
      "node 1 after adding property  {'size': 11, 'loc': array([0., 0., 0.], dtype=float32)}\n"
     ]
    }
   ],
   "source": [
    "XG=nx.DiGraph()# graph, nodes, and edges can all have attributes\n",
    "#add weighted edges\n",
    "XG.add_weighted_edges_from([('s', 'u', 10), ('s', 'x', 5),\n",
    "                                         ('u', 'v', 1), ('u', 'x', 2),\n",
    "                                         ('v', 'y', 1), ('x', 'u', 3),\n",
    "                                         ('x', 'v', 5), ('x', 'y', 2),\n",
    "                                         ('y', 's', 7), ('y', 'v', 6)])\n",
    "#add edge with extra attributes\n",
    "XG.add_edge(1, 2, color='red', weight=0.84, size=300, eps=10)\n",
    "print(\"node 1 before adding property \",XG.nodes[1])\n",
    "#it seems nodes attribute can be added after node's created\n",
    "XG.add_nodes_from([(1, dict(size=11,loc=np.array([0,0,0],dtype='float32'))), \n",
    "                   (2, {'color':'blue','loc':np.array([0,0,1],dtype='float64')})])\n",
    "\n",
    "# XG.add_nodes_from([(1, dict(size=11,loc=np.array([1,2,3]))), (2, dict(color='blue',loc=np.array([3,2,3])))])\n",
    "\n",
    "print(\"node 1 after adding property \",XG.nodes[1])\n",
    "# XG.add_node(1,size=11,loc=np.array([1,2,3],dtype='float64'))\n",
    "# XG.add_node(2,color='blue',loc=np.array([3,2,3],dtype='float64'))\n",
    "                   \n",
    "XG.add_node(3,eps=100,loc=np.array([0,1,0],dtype='float64'))\n",
    "# XG.add_nodes_from([(4, dict(size=11, eps=4,loc=np.array([2,2,2]))), (5, {'color':'blue',loc=np.array([1,1,3])})])\n",
    "\n",
    "XG.add_node(4,size=11, eps=4,loc=np.array([0,1,1],dtype='float64'))\n",
    "XG.add_node(5,color='blue',loc=np.array([1,1,1],dtype='float64'))\n",
    "\n",
    "XG.add_edge(4, 5)\n",
    "# XG.add_nodes_from([(4, dict(eps=0)),5,6])"
   ]
  },
  {
   "cell_type": "code",
   "execution_count": 34,
   "metadata": {},
   "outputs": [
    {
     "data": {
      "image/png": "[encoded data removed]",
      "text/plain": [
       "<matplotlib.figure.Figure at 0x7f22d3f30630>"
      ]
     },
     "metadata": {},
     "output_type": "display_data"
    }
   ],
   "source": [
    "#graphical view\n",
    "nx.draw(XG, pos=nx.circular_layout(XG), with_labels=True, node_color='r', edge_color='b')"
   ]
  },
  {
   "cell_type": "code",
   "execution_count": 35,
   "metadata": {},
   "outputs": [
    {
     "data": {
      "text/plain": [
       "{1: array([0., 0., 0.], dtype=float32),\n",
       " 2: array([0., 0., 1.]),\n",
       " 3: array([0., 1., 0.]),\n",
       " 4: array([0., 1., 1.]),\n",
       " 5: array([1., 1., 1.]),\n",
       " 's': None,\n",
       " 'u': None,\n",
       " 'v': None,\n",
       " 'x': None,\n",
       " 'y': None}"
      ]
     },
     "execution_count": 35,
     "metadata": {},
     "output_type": "execute_result"
    }
   ],
   "source": [
    "dict(XG.nodes(data='loc'))"
   ]
  },
  {
   "cell_type": "code",
   "execution_count": 36,
   "metadata": {},
   "outputs": [
    {
     "ename": "IndexError",
     "evalue": "too many indices for array",
     "output_type": "error",
     "traceback": [
      "\u001b[0;31m---------------------------------------------------------------------------\u001b[0m",
      "\u001b[0;31mIndexError\u001b[0m                                Traceback (most recent call last)",
      "\u001b[0;32m<ipython-input-36-77ab800b8287>\u001b[0m in \u001b[0;36m<module>\u001b[0;34m()\u001b[0m\n\u001b[1;32m      1\u001b[0m \u001b[0;31m#nx can't draw 3d\u001b[0m\u001b[0;34m\u001b[0m\u001b[0;34m\u001b[0m\u001b[0;34m\u001b[0m\u001b[0m\n\u001b[0;32m----> 2\u001b[0;31m \u001b[0mnx\u001b[0m\u001b[0;34m.\u001b[0m\u001b[0mdraw\u001b[0m\u001b[0;34m(\u001b[0m\u001b[0mXG\u001b[0m\u001b[0;34m,\u001b[0m \u001b[0mpos\u001b[0m\u001b[0;34m=\u001b[0m\u001b[0mdict\u001b[0m\u001b[0;34m(\u001b[0m\u001b[0mXG\u001b[0m\u001b[0;34m.\u001b[0m\u001b[0mnodes\u001b[0m\u001b[0;34m(\u001b[0m\u001b[0mdata\u001b[0m\u001b[0;34m=\u001b[0m\u001b[0;34m'loc'\u001b[0m\u001b[0;34m)\u001b[0m\u001b[0;34m)\u001b[0m\u001b[0;34m,\u001b[0m \u001b[0mwith_labels\u001b[0m\u001b[0;34m=\u001b[0m\u001b[0;32mTrue\u001b[0m\u001b[0;34m,\u001b[0m \u001b[0mnode_color\u001b[0m\u001b[0;34m=\u001b[0m\u001b[0;34m'r'\u001b[0m\u001b[0;34m,\u001b[0m \u001b[0medge_color\u001b[0m\u001b[0;34m=\u001b[0m\u001b[0;34m'b'\u001b[0m\u001b[0;34m)\u001b[0m\u001b[0;34m\u001b[0m\u001b[0;34m\u001b[0m\u001b[0m\n\u001b[0m",
      "\u001b[0;32m/usr/local/lib/python3.6/dist-packages/networkx/drawing/nx_pylab.py\u001b[0m in \u001b[0;36mdraw\u001b[0;34m(G, pos, ax, **kwds)\u001b[0m\n\u001b[1;32m    123\u001b[0m         \u001b[0mkwds\u001b[0m\u001b[0;34m[\u001b[0m\u001b[0;34m'with_labels'\u001b[0m\u001b[0;34m]\u001b[0m \u001b[0;34m=\u001b[0m \u001b[0;34m'labels'\u001b[0m \u001b[0;32min\u001b[0m \u001b[0mkwds\u001b[0m\u001b[0;34m\u001b[0m\u001b[0;34m\u001b[0m\u001b[0m\n\u001b[1;32m    124\u001b[0m \u001b[0;34m\u001b[0m\u001b[0m\n\u001b[0;32m--> 125\u001b[0;31m     \u001b[0mdraw_networkx\u001b[0m\u001b[0;34m(\u001b[0m\u001b[0mG\u001b[0m\u001b[0;34m,\u001b[0m \u001b[0mpos\u001b[0m\u001b[0;34m=\u001b[0m\u001b[0mpos\u001b[0m\u001b[0;34m,\u001b[0m \u001b[0max\u001b[0m\u001b[0;34m=\u001b[0m\u001b[0max\u001b[0m\u001b[0;34m,\u001b[0m \u001b[0;34m**\u001b[0m\u001b[0mkwds\u001b[0m\u001b[0;34m)\u001b[0m\u001b[0;34m\u001b[0m\u001b[0;34m\u001b[0m\u001b[0m\n\u001b[0m\u001b[1;32m    126\u001b[0m     \u001b[0max\u001b[0m\u001b[0;34m.\u001b[0m\u001b[0mset_axis_off\u001b[0m\u001b[0;34m(\u001b[0m\u001b[0;34m)\u001b[0m\u001b[0;34m\u001b[0m\u001b[0;34m\u001b[0m\u001b[0m\n\u001b[1;32m    127\u001b[0m     \u001b[0mplt\u001b[0m\u001b[0;34m.\u001b[0m\u001b[0mdraw_if_interactive\u001b[0m\u001b[0;34m(\u001b[0m\u001b[0;34m)\u001b[0m\u001b[0;34m\u001b[0m\u001b[0;34m\u001b[0m\u001b[0m\n",
      "\u001b[0;32m/usr/local/lib/python3.6/dist-packages/networkx/drawing/nx_pylab.py\u001b[0m in \u001b[0;36mdraw_networkx\u001b[0;34m(G, pos, arrows, with_labels, **kwds)\u001b[0m\n\u001b[1;32m    272\u001b[0m         \u001b[0mpos\u001b[0m \u001b[0;34m=\u001b[0m \u001b[0mnx\u001b[0m\u001b[0;34m.\u001b[0m\u001b[0mdrawing\u001b[0m\u001b[0;34m.\u001b[0m\u001b[0mspring_layout\u001b[0m\u001b[0;34m(\u001b[0m\u001b[0mG\u001b[0m\u001b[0;34m)\u001b[0m  \u001b[0;31m# default to spring layout\u001b[0m\u001b[0;34m\u001b[0m\u001b[0;34m\u001b[0m\u001b[0m\n\u001b[1;32m    273\u001b[0m \u001b[0;34m\u001b[0m\u001b[0m\n\u001b[0;32m--> 274\u001b[0;31m     \u001b[0mnode_collection\u001b[0m \u001b[0;34m=\u001b[0m \u001b[0mdraw_networkx_nodes\u001b[0m\u001b[0;34m(\u001b[0m\u001b[0mG\u001b[0m\u001b[0;34m,\u001b[0m \u001b[0mpos\u001b[0m\u001b[0;34m,\u001b[0m \u001b[0;34m**\u001b[0m\u001b[0mkwds\u001b[0m\u001b[0;34m)\u001b[0m\u001b[0;34m\u001b[0m\u001b[0;34m\u001b[0m\u001b[0m\n\u001b[0m\u001b[1;32m    275\u001b[0m     \u001b[0medge_collection\u001b[0m \u001b[0;34m=\u001b[0m \u001b[0mdraw_networkx_edges\u001b[0m\u001b[0;34m(\u001b[0m\u001b[0mG\u001b[0m\u001b[0;34m,\u001b[0m \u001b[0mpos\u001b[0m\u001b[0;34m,\u001b[0m \u001b[0marrows\u001b[0m\u001b[0;34m=\u001b[0m\u001b[0marrows\u001b[0m\u001b[0;34m,\u001b[0m \u001b[0;34m**\u001b[0m\u001b[0mkwds\u001b[0m\u001b[0;34m)\u001b[0m\u001b[0;34m\u001b[0m\u001b[0;34m\u001b[0m\u001b[0m\n\u001b[1;32m    276\u001b[0m     \u001b[0;32mif\u001b[0m \u001b[0mwith_labels\u001b[0m\u001b[0;34m:\u001b[0m\u001b[0;34m\u001b[0m\u001b[0;34m\u001b[0m\u001b[0m\n",
      "\u001b[0;32m/usr/local/lib/python3.6/dist-packages/networkx/drawing/nx_pylab.py\u001b[0m in \u001b[0;36mdraw_networkx_nodes\u001b[0;34m(G, pos, nodelist, node_size, node_color, node_shape, alpha, cmap, vmin, vmax, ax, linewidths, edgecolors, label, **kwds)\u001b[0m\n\u001b[1;32m    405\u001b[0m         \u001b[0malpha\u001b[0m \u001b[0;34m=\u001b[0m \u001b[0;32mNone\u001b[0m\u001b[0;34m\u001b[0m\u001b[0;34m\u001b[0m\u001b[0m\n\u001b[1;32m    406\u001b[0m \u001b[0;34m\u001b[0m\u001b[0m\n\u001b[0;32m--> 407\u001b[0;31m     node_collection = ax.scatter(xy[:, 0], xy[:, 1],\n\u001b[0m\u001b[1;32m    408\u001b[0m                                  \u001b[0ms\u001b[0m\u001b[0;34m=\u001b[0m\u001b[0mnode_size\u001b[0m\u001b[0;34m,\u001b[0m\u001b[0;34m\u001b[0m\u001b[0;34m\u001b[0m\u001b[0m\n\u001b[1;32m    409\u001b[0m                                  \u001b[0mc\u001b[0m\u001b[0;34m=\u001b[0m\u001b[0mnode_color\u001b[0m\u001b[0;34m,\u001b[0m\u001b[0;34m\u001b[0m\u001b[0;34m\u001b[0m\u001b[0m\n",
      "\u001b[0;31mIndexError\u001b[0m: too many indices for array"
     ]
    },
    {
     "data": {
      "image/png": "[encoded data removed]",
      "text/plain": [
       "<matplotlib.figure.Figure at 0x7f22d3ea6278>"
      ]
     },
     "metadata": {},
     "output_type": "display_data"
    }
   ],
   "source": [
    "#nx can't draw 3d\n",
    "nx.draw(XG, pos=dict(XG.nodes(data='loc')), with_labels=True, node_color='r', edge_color='b')"
   ]
  },
  {
   "cell_type": "code",
   "execution_count": 37,
   "metadata": {},
   "outputs": [
    {
     "name": "stdout",
     "output_type": "stream",
     "text": [
      "node 3's eps attribute:  100\n",
      "node 4's eps attribute:  4\n"
     ]
    }
   ],
   "source": [
    "# access nodes' attribute\n",
    "print(\"node 3's eps attribute: \", XG.nodes[3]['eps'])\n",
    "print(\"node 4's eps attribute: \", XG.nodes[4]['eps'])"
   ]
  },
  {
   "cell_type": "code",
   "execution_count": 38,
   "metadata": {},
   "outputs": [
    {
     "data": {
      "image/png": "[encoded data removed]",
      "text/plain": [
       "<matplotlib.figure.Figure at 0x7f22d3e721d0>"
      ]
     },
     "metadata": {},
     "output_type": "display_data"
    }
   ],
   "source": [
    "# remove nodes, seems like related edges are removed as well\n",
    "XG.remove_node(4)\n",
    "nx.draw(XG, pos=nx.circular_layout(XG), with_labels=True, node_color='r', edge_color='b')"
   ]
  },
  {
   "cell_type": "code",
   "execution_count": 39,
   "metadata": {},
   "outputs": [
    {
     "data": {
      "image/png": "[encoded data removed]",
      "text/plain": [
       "<matplotlib.figure.Figure at 0x7f22d3df72b0>"
      ]
     },
     "metadata": {},
     "output_type": "display_data"
    }
   ],
   "source": [
    "XG.remove_nodes_from([3,5])\n",
    "nx.draw(XG, pos=nx.circular_layout(XG), with_labels=True, node_color='r', edge_color='b')"
   ]
  },
  {
   "cell_type": "code",
   "execution_count": 15,
   "metadata": {},
   "outputs": [
    {
     "data": {
      "text/plain": [
       "{1: array([0.42371673, 1.        ]), 2: array([-0.42371673, -1.        ])}"
      ]
     },
     "execution_count": 15,
     "metadata": {},
     "output_type": "execute_result"
    }
   ],
   "source": [
    "#layout function gives a dict from node name to \n",
    "nx.spring_layout(XG)"
   ]
  },
  {
   "cell_type": "code",
   "execution_count": 40,
   "metadata": {},
   "outputs": [
    {
     "data": {
      "text/plain": [
       "{1: None, 2: None, 's': None, 'u': None, 'v': None, 'x': None, 'y': None}"
      ]
     },
     "execution_count": 40,
     "metadata": {},
     "output_type": "execute_result"
    }
   ],
   "source": [
    "dict(XG.nodes(data='eps'))\n",
    "#use this to replace nx.spring_layout to draw the graph differently"
   ]
  },
  {
   "cell_type": "code",
   "execution_count": 41,
   "metadata": {},
   "outputs": [
    {
     "name": "stdout",
     "output_type": "stream",
     "text": [
      "shortest path from s to u is  ['s', 'u']\n",
      "shortest path from s to v is  ['s', 'u', 'v']\n"
     ]
    }
   ],
   "source": [
    "print(\"shortest path from s to u is \",nx.shortest_path(XG, 's', 'u'))\n",
    "print(\"shortest path from s to v is \",nx.shortest_path(XG, 's', 'v'))"
   ]
  },
  {
   "cell_type": "code",
   "execution_count": 42,
   "metadata": {},
   "outputs": [
    {
     "ename": "TypeError",
     "evalue": "'<' not supported between instances of 'int' and 'str'",
     "output_type": "error",
     "traceback": [
      "\u001b[0;31m---------------------------------------------------------------------------\u001b[0m",
      "\u001b[0;31mTypeError\u001b[0m                                 Traceback (most recent call last)",
      "\u001b[0;32m<ipython-input-42-adb8256d469a>\u001b[0m in \u001b[0;36m<module>\u001b[0;34m()\u001b[0m\n\u001b[1;32m     14\u001b[0m \u001b[0;34m\u001b[0m\u001b[0m\n\u001b[1;32m     15\u001b[0m \u001b[0;31m# numpy array of x,y,z positions in sorted node order\u001b[0m\u001b[0;34m\u001b[0m\u001b[0;34m\u001b[0m\u001b[0;34m\u001b[0m\u001b[0m\n\u001b[0;32m---> 16\u001b[0;31m \u001b[0mxyz\u001b[0m \u001b[0;34m=\u001b[0m \u001b[0mnp\u001b[0m\u001b[0;34m.\u001b[0m\u001b[0marray\u001b[0m\u001b[0;34m(\u001b[0m\u001b[0;34m[\u001b[0m\u001b[0mpos\u001b[0m\u001b[0;34m[\u001b[0m\u001b[0mv\u001b[0m\u001b[0;34m]\u001b[0m \u001b[0;32mfor\u001b[0m \u001b[0mv\u001b[0m \u001b[0;32min\u001b[0m \u001b[0msorted\u001b[0m\u001b[0;34m(\u001b[0m\u001b[0mXG\u001b[0m\u001b[0;34m)\u001b[0m\u001b[0;34m]\u001b[0m\u001b[0;34m)\u001b[0m\u001b[0;31m#/1\u001b[0m\u001b[0;34m\u001b[0m\u001b[0;34m\u001b[0m\u001b[0m\n\u001b[0m\u001b[1;32m     17\u001b[0m \u001b[0;31m# scalar colors\u001b[0m\u001b[0;34m\u001b[0m\u001b[0;34m\u001b[0m\u001b[0;34m\u001b[0m\u001b[0m\n\u001b[1;32m     18\u001b[0m \u001b[0mscalars\u001b[0m \u001b[0;34m=\u001b[0m \u001b[0mnp\u001b[0m\u001b[0;34m.\u001b[0m\u001b[0marray\u001b[0m\u001b[0;34m(\u001b[0m\u001b[0mlist\u001b[0m\u001b[0;34m(\u001b[0m\u001b[0mXG\u001b[0m\u001b[0;34m.\u001b[0m\u001b[0mnodes\u001b[0m\u001b[0;34m(\u001b[0m\u001b[0;34m)\u001b[0m\u001b[0;34m)\u001b[0m\u001b[0;34m)\u001b[0m \u001b[0;34m+\u001b[0m \u001b[0;36m5\u001b[0m\u001b[0;34m\u001b[0m\u001b[0;34m\u001b[0m\u001b[0m\n",
      "\u001b[0;31mTypeError\u001b[0m: '<' not supported between instances of 'int' and 'str'"
     ]
    }
   ],
   "source": [
    "# to draw 3d, only numbered nodes are allowed\n",
    "\n",
    "from mayavi import mlab\n",
    "\n",
    "# some graphs to try\n",
    "# H=nx.krackhardt_kite_graph()\n",
    "# H=nx.Graph();H.add_edge('a','b');H.add_edge('a','c');H.add_edge('a','d')\n",
    "# H=nx.grid_2d_graph(4,5)\n",
    "H = nx.cycle_graph(20)\n",
    "\n",
    "# reorder nodes from 0,len(G)-1\n",
    "G = nx.convert_node_labels_to_integers(H)\n",
    "# 3d spring layout\n",
    "# pos = nx.spring_layout(XG, dim=3)\n",
    "pos=dict(XG.nodes(data='loc'))\n",
    "\n",
    "# numpy array of x,y,z positions in sorted node order\n",
    "xyz = np.array([pos[v] for v in sorted(XG)])#/1\n",
    "# scalar colors\n",
    "scalars = np.array(list(XG.nodes())) + 5\n",
    "\n",
    "pts = mlab.points3d(\n",
    "    xyz[:, 0],\n",
    "    xyz[:, 1],\n",
    "    xyz[:, 2],\n",
    "    scalars,\n",
    "    scale_factor=.4,\n",
    "    scale_mode=\"none\",\n",
    "    colormap=\"Blues\",\n",
    "    resolution=100,\n",
    ")\n",
    "\n",
    "pts.mlab_source.dataset.lines = np.array(list(XG.edges()))\n",
    "tube = mlab.pipeline.tube(pts, tube_radius=0.01)\n",
    "mlab.pipeline.surface(tube, color=(0.8, 0.8, 0.8))\n",
    "mlab.show()"
   ]
  },
  {
   "cell_type": "code",
   "execution_count": 19,
   "metadata": {},
   "outputs": [
    {
     "ename": "SyntaxError",
     "evalue": "invalid syntax (<ipython-input-19-303742728bb6>, line 2)",
     "output_type": "error",
     "traceback": [
      "\u001b[0;36m  File \u001b[0;32m\"<ipython-input-19-303742728bb6>\"\u001b[0;36m, line \u001b[0;32m2\u001b[0m\n\u001b[0;31m    pts.mlab_source.dataset.linesan be stored in three different places:\u001b[0m\n\u001b[0m                                     ^\u001b[0m\n\u001b[0;31mSyntaxError\u001b[0m\u001b[0;31m:\u001b[0m invalid syntax\n"
     ]
    }
   ],
   "source": [
    "# np.array(list(XG.edges()))\n",
    "pts.mlab_source.dataset.lines#an be stored in three different places:"
   ]
  },
  {
   "cell_type": "code",
   "execution_count": 43,
   "metadata": {},
   "outputs": [
    {
     "ename": "TypeError",
     "evalue": "'<' not supported between instances of 'int' and 'str'",
     "output_type": "error",
     "traceback": [
      "\u001b[0;31m---------------------------------------------------------------------------\u001b[0m",
      "\u001b[0;31mTypeError\u001b[0m                                 Traceback (most recent call last)",
      "\u001b[0;32m<ipython-input-43-26866b0added>\u001b[0m in \u001b[0;36m<module>\u001b[0;34m()\u001b[0m\n\u001b[1;32m      3\u001b[0m \u001b[0;34m\u001b[0m\u001b[0m\n\u001b[1;32m      4\u001b[0m \u001b[0;31m# numpy array of x,y,z positions in sorted node order\u001b[0m\u001b[0;34m\u001b[0m\u001b[0;34m\u001b[0m\u001b[0;34m\u001b[0m\u001b[0m\n\u001b[0;32m----> 5\u001b[0;31m \u001b[0mxyz\u001b[0m \u001b[0;34m=\u001b[0m \u001b[0mnp\u001b[0m\u001b[0;34m.\u001b[0m\u001b[0marray\u001b[0m\u001b[0;34m(\u001b[0m\u001b[0;34m[\u001b[0m\u001b[0mpos\u001b[0m\u001b[0;34m[\u001b[0m\u001b[0mv\u001b[0m\u001b[0;34m]\u001b[0m \u001b[0;32mfor\u001b[0m \u001b[0mv\u001b[0m \u001b[0;32min\u001b[0m \u001b[0msorted\u001b[0m\u001b[0;34m(\u001b[0m\u001b[0mXG\u001b[0m\u001b[0;34m)\u001b[0m\u001b[0;34m]\u001b[0m\u001b[0;34m)\u001b[0m\u001b[0;34m\u001b[0m\u001b[0;34m\u001b[0m\u001b[0m\n\u001b[0m",
      "\u001b[0;31mTypeError\u001b[0m: '<' not supported between instances of 'int' and 'str'"
     ]
    }
   ],
   "source": [
    "# pos = nx.spring_layout(G, dim=4)\n",
    "pos=dict(XG.nodes(data='loc'))\n",
    "\n",
    "# numpy array of x,y,z positions in sorted node order\n",
    "xyz = np.array([pos[v] for v in sorted(XG)])"
   ]
  },
  {
   "cell_type": "code",
   "execution_count": 37,
   "metadata": {},
   "outputs": [
    {
     "data": {
      "text/plain": [
       "dtype('float64')"
      ]
     },
     "execution_count": 37,
     "metadata": {},
     "output_type": "execute_result"
    }
   ],
   "source": [
    "dict(XG.nodes(data='loc'))[1].dtype"
   ]
  },
  {
   "cell_type": "code",
   "execution_count": 8,
   "metadata": {},
   "outputs": [
    {
     "data": {
      "text/plain": [
       "array([[1, 2, 3],\n",
       "       [3, 2, 3],\n",
       "       [6, 2, 3],\n",
       "       [2, 2, 2],\n",
       "       [1, 1, 3]])"
      ]
     },
     "execution_count": 8,
     "metadata": {},
     "output_type": "execute_result"
    }
   ],
   "source": [
    "xyz"
   ]
  },
  {
   "cell_type": "code",
   "execution_count": 17,
   "metadata": {},
   "outputs": [
    {
     "data": {
      "text/plain": [
       "array([0.11780747, 0.26439407, 1.        ])"
      ]
     },
     "execution_count": 17,
     "metadata": {},
     "output_type": "execute_result"
    }
   ],
   "source": [
    "pos[1]"
   ]
  },
  {
   "cell_type": "code",
   "execution_count": 10,
   "metadata": {},
   "outputs": [
    {
     "data": {
      "text/plain": [
       "[1, 2, 3, 4, 5]"
      ]
     },
     "execution_count": 10,
     "metadata": {},
     "output_type": "execute_result"
    }
   ],
   "source": [
    "sorted(XG)"
   ]
  },
  {
   "cell_type": "markdown",
   "metadata": {},
   "source": [
    "## access/reporting nodes edges and neighbors"
   ]
  },
  {
   "cell_type": "code",
   "execution_count": 44,
   "metadata": {},
   "outputs": [
    {
     "data": {
      "text/plain": [
       "2"
      ]
     },
     "execution_count": 44,
     "metadata": {},
     "output_type": "execute_result"
    }
   ],
   "source": [
    "#get neighbors of a node\n",
    "#possible multiple neighbors in general\n",
    "next(nx.neighbors(XG,1))"
   ]
  },
  {
   "cell_type": "code",
   "execution_count": 30,
   "metadata": {},
   "outputs": [
    {
     "data": {
      "text/plain": [
       "2"
      ]
     },
     "execution_count": 30,
     "metadata": {},
     "output_type": "execute_result"
    }
   ],
   "source": [
    "#to get the next neighbor\n",
    "# iter=XG.neighbors(1)\n",
    "# next(iter)\n",
    "next(XG.neighbors(1))"
   ]
  },
  {
   "cell_type": "code",
   "execution_count": 45,
   "metadata": {},
   "outputs": [
    {
     "name": "stdout",
     "output_type": "stream",
     "text": [
      "edge su is  {'weight': 10}\n",
      "edge su is  {'weight': 10}\n",
      "edge 1,2 has edge attribute:  {'color': 'red', 'weight': 0.84, 'size': 300, 'eps': 10}\n",
      "edge 1,2 has edge attribute:  {'color': 'red', 'weight': 0.84, 'size': 300, 'eps': 10}\n",
      "edge 1,2 eps is:  10\n"
     ]
    }
   ],
   "source": [
    "# for edges\n",
    "# access an edge\n",
    "# G[u][v] returns the edge attribute dictionary.\n",
    "print(\"edge su is \",XG['s']['u'])\n",
    "print(\"edge su is \",XG.edges['s','u'])#another way to access edges\n",
    "print(\"edge 1,2 has edge attribute: \",XG[1][2])\n",
    "#same as following, which returns attribute dictionary of an edge\n",
    "print(\"edge 1,2 has edge attribute: \",XG.get_edge_data(1,2))\n",
    "# access one of such attribute\n",
    "print(\"edge 1,2 eps is: \", XG[1][2]['eps'])\n"
   ]
  },
  {
   "cell_type": "code",
   "execution_count": 47,
   "metadata": {},
   "outputs": [
    {
     "name": "stdout",
     "output_type": "stream",
     "text": [
      "node s is connected to {'u': {'weight': 10}, 'x': {'weight': 5}}\n",
      "graph adjacency list:  {'s': {'u': {'weight': 10}, 'x': {'weight': 5}}, 'u': {'v': {'weight': 1}, 'x': {'weight': 2}}, 'x': {'u': {'weight': 3}, 'v': {'weight': 5}, 'y': {'weight': 2}}, 'v': {'y': {'weight': 1}}, 'y': {'s': {'weight': 7}, 'v': {'weight': 6}}, 1: {2: {'color': 'red', 'weight': 0.84, 'size': 300, 'eps': 10}}, 2: {}}\n",
      "node s is connected to {'u': {'weight': 10}, 'x': {'weight': 5}}\n"
     ]
    }
   ],
   "source": [
    "#for nodes\n",
    "# access a node\n",
    "print(\"node s is connected to\", XG['s'])\n",
    "\n",
    "#print adjacjency list\n",
    "print(\"graph adjacency list: \",XG.adj)\n",
    "\n",
    "# add attribute to node?\n",
    "XG.nodes['s']['eps']=100.00\n",
    "# XG['s']['eps']=100.00#this doesn't work\n",
    "print(\"node s is connected to\", XG['s'])"
   ]
  },
  {
   "cell_type": "code",
   "execution_count": 17,
   "metadata": {},
   "outputs": [
    {
     "name": "stdout",
     "output_type": "stream",
     "text": [
      "D:  {'s': 0, 'x': 5, 'y': 7, 'u': 8, 'v': 9}\n",
      "P:  {'s': ['s'], 'u': ['s', 'x', 'u'], 'x': ['s', 'x'], 'v': ['s', 'x', 'u', 'v'], 'y': ['s', 'x', 'y']}\n"
     ]
    }
   ],
   "source": [
    "# use dijkstra to update from a source?\n",
    "(D,P)=nx.single_source_dijkstra(XG, 's')\n",
    "print(\"D: \",D)\n",
    "print(\"P: \",P)"
   ]
  },
  {
   "cell_type": "code",
   "execution_count": 15,
   "metadata": {},
   "outputs": [
    {
     "data": {
      "text/plain": [
       "{'s': 0, 'u': 8, 'v': 9, 'x': 5, 'y': 7}"
      ]
     },
     "execution_count": 15,
     "metadata": {},
     "output_type": "execute_result"
    }
   ],
   "source": [
    "D"
   ]
  },
  {
   "cell_type": "code",
   "execution_count": 16,
   "metadata": {},
   "outputs": [
    {
     "data": {
      "text/plain": [
       "{'s': ['s'],\n",
       " 'u': ['s', 'x', 'u'],\n",
       " 'v': ['s', 'x', 'u', 'v'],\n",
       " 'x': ['s', 'x'],\n",
       " 'y': ['s', 'x', 'y']}"
      ]
     },
     "execution_count": 16,
     "metadata": {},
     "output_type": "execute_result"
    }
   ],
   "source": [
    "P"
   ]
  },
  {
   "cell_type": "code",
   "execution_count": 111,
   "metadata": {},
   "outputs": [
    {
     "name": "stdout",
     "output_type": "stream",
     "text": [
      "<dict_keyiterator object at 0x7f477f02b548>\n",
      "s's neighbours are  u\n",
      "s's neighbours are  x\n",
      "\n"
     ]
    }
   ],
   "source": [
    "iter_=XG.neighbors('s')\n",
    "print(iter_)\n",
    "while True:\n",
    "    try:\n",
    "        print(\"s's neighbours are \",next(iter_))\n",
    "    except (StopIteration,Exception) as e:\n",
    "        print(e)\n",
    "        break\n",
    "            "
   ]
  },
  {
   "cell_type": "code",
   "execution_count": 122,
   "metadata": {},
   "outputs": [
    {
     "ename": "AttributeError",
     "evalue": "'tuple' object has no attribute 'va'",
     "output_type": "error",
     "traceback": [
      "\u001b[0;31m---------------------------------------------------------------------------\u001b[0m",
      "\u001b[0;31mAttributeError\u001b[0m                            Traceback (most recent call last)",
      "\u001b[0;32m<ipython-input-122-b9a5fca92132>\u001b[0m in \u001b[0;36m<module>\u001b[0;34m()\u001b[0m\n\u001b[1;32m      1\u001b[0m \u001b[0;31m# iterate over edges\u001b[0m\u001b[0;34m\u001b[0m\u001b[0;34m\u001b[0m\u001b[0;34m\u001b[0m\u001b[0m\n\u001b[1;32m      2\u001b[0m \u001b[0;32mfor\u001b[0m \u001b[0me\u001b[0m \u001b[0;32min\u001b[0m \u001b[0mlist\u001b[0m\u001b[0;34m(\u001b[0m\u001b[0mXG\u001b[0m\u001b[0;34m.\u001b[0m\u001b[0medges\u001b[0m\u001b[0;34m)\u001b[0m\u001b[0;34m:\u001b[0m\u001b[0;34m\u001b[0m\u001b[0;34m\u001b[0m\u001b[0m\n\u001b[0;32m----> 3\u001b[0;31m     \u001b[0mprint\u001b[0m\u001b[0;34m(\u001b[0m\u001b[0;34m\"edge: \"\u001b[0m\u001b[0;34m,\u001b[0m\u001b[0me\u001b[0m\u001b[0;34m,\u001b[0m \u001b[0;34m\"value: \"\u001b[0m\u001b[0;34m,\u001b[0m \u001b[0me\u001b[0m\u001b[0;34m.\u001b[0m\u001b[0mva\u001b[0m\u001b[0;34m)\u001b[0m\u001b[0;34m\u001b[0m\u001b[0;34m\u001b[0m\u001b[0m\n\u001b[0m\u001b[1;32m      4\u001b[0m \u001b[0;31m# iterate over nodes\u001b[0m\u001b[0;34m\u001b[0m\u001b[0;34m\u001b[0m\u001b[0;34m\u001b[0m\u001b[0m\n\u001b[1;32m      5\u001b[0m \u001b[0;32mfor\u001b[0m \u001b[0mn\u001b[0m \u001b[0;32min\u001b[0m \u001b[0mlist\u001b[0m\u001b[0;34m(\u001b[0m\u001b[0mXG\u001b[0m\u001b[0;34m.\u001b[0m\u001b[0mnodes\u001b[0m\u001b[0;34m)\u001b[0m\u001b[0;34m:\u001b[0m\u001b[0;34m\u001b[0m\u001b[0;34m\u001b[0m\u001b[0m\n",
      "\u001b[0;31mAttributeError\u001b[0m: 'tuple' object has no attribute 'va'"
     ]
    }
   ],
   "source": [
    "# iterate over edges\n",
    "for e in list(XG.edges):\n",
    "    print(\"edge: \",e, \"value: \", e.va)\n",
    "# iterate over nodes\n",
    "for n in list(XG.nodes):\n",
    "    print(\"node: \",n)"
   ]
  },
  {
   "cell_type": "code",
   "execution_count": 100,
   "metadata": {},
   "outputs": [
    {
     "data": {
      "text/plain": [
       "{'color': 'red', 'eps': 10, 'size': 300, 'weight': 0.84}"
      ]
     },
     "execution_count": 100,
     "metadata": {},
     "output_type": "execute_result"
    }
   ],
   "source": [
    "#returns attribute dictionary of an edge\n",
    "XG.get_edge_data(1,2)\n",
    "#same as\n",
    "XG[1][2]"
   ]
  },
  {
   "cell_type": "code",
   "execution_count": 44,
   "metadata": {},
   "outputs": [
    {
     "data": {
      "text/plain": [
       "{'color': 'red', 'eps': 10, 'size': 300, 'weight': 0.84}"
      ]
     },
     "execution_count": 44,
     "metadata": {},
     "output_type": "execute_result"
    }
   ],
   "source": []
  },
  {
   "cell_type": "code",
   "execution_count": null,
   "metadata": {},
   "outputs": [],
   "source": []
  },
  {
   "cell_type": "markdown",
   "metadata": {},
   "source": [
    "## Convert to numpy array"
   ]
  },
  {
   "cell_type": "code",
   "execution_count": 96,
   "metadata": {},
   "outputs": [
    {
     "data": {
      "text/plain": [
       "array([[  0.  ,  10.  ,   5.  ,   0.  ,   0.  ,   0.  ,   0.  ,   0.  ,\n",
       "          0.  ,   0.  ],\n",
       "       [  0.  ,   0.  ,   2.  ,   1.  ,   0.  ,   0.  ,   0.  ,   0.  ,\n",
       "          0.  ,   0.  ],\n",
       "       [  0.  ,   3.  ,   0.  ,   5.  ,   2.  ,   0.  ,   0.  ,   0.  ,\n",
       "          0.  ,   0.  ],\n",
       "       [  0.  ,   0.  ,   0.  ,   0.  ,   1.  ,   0.  ,   0.  ,   0.  ,\n",
       "          0.  ,   0.  ],\n",
       "       [  7.  ,   0.  ,   0.  ,   6.  ,   0.  ,   0.  ,   0.  ,   0.  ,\n",
       "          0.  ,   0.  ],\n",
       "       [  0.  ,   0.  ,   0.  ,   0.  ,   0.  ,   0.  ,   0.84,   0.  ,\n",
       "          0.  ,   0.  ],\n",
       "       [  0.  ,   0.  ,   0.  ,   0.  ,   0.  ,   0.  ,   0.  ,   0.  ,\n",
       "          0.  ,   0.  ],\n",
       "       [  0.  ,   0.  ,   0.  ,   0.  ,   0.  ,   0.  ,   0.  ,   0.  ,\n",
       "          0.  ,   0.  ],\n",
       "       [  0.  ,   0.  ,   0.  ,   0.  ,   0.  ,   0.  ,   0.  ,   0.  ,\n",
       "          0.  ,   1.  ],\n",
       "       [  0.  ,   0.  ,   0.  ,   0.  ,   0.  ,   0.  ,   0.  ,   0.  ,\n",
       "          0.  ,   0.  ]])"
      ]
     },
     "execution_count": 96,
     "metadata": {},
     "output_type": "execute_result"
    }
   ],
   "source": [
    "nx.to_numpy_array(XG)"
   ]
  },
  {
   "cell_type": "code",
   "execution_count": 97,
   "metadata": {},
   "outputs": [
    {
     "data": {
      "text/plain": [
       "matrix([[  0.  ,  10.  ,   5.  ,   0.  ,   0.  ,   0.  ,   0.  ,   0.  ,\n",
       "           0.  ,   0.  ],\n",
       "        [  0.  ,   0.  ,   2.  ,   1.  ,   0.  ,   0.  ,   0.  ,   0.  ,\n",
       "           0.  ,   0.  ],\n",
       "        [  0.  ,   3.  ,   0.  ,   5.  ,   2.  ,   0.  ,   0.  ,   0.  ,\n",
       "           0.  ,   0.  ],\n",
       "        [  0.  ,   0.  ,   0.  ,   0.  ,   1.  ,   0.  ,   0.  ,   0.  ,\n",
       "           0.  ,   0.  ],\n",
       "        [  7.  ,   0.  ,   0.  ,   6.  ,   0.  ,   0.  ,   0.  ,   0.  ,\n",
       "           0.  ,   0.  ],\n",
       "        [  0.  ,   0.  ,   0.  ,   0.  ,   0.  ,   0.  ,   0.84,   0.  ,\n",
       "           0.  ,   0.  ],\n",
       "        [  0.  ,   0.  ,   0.  ,   0.  ,   0.  ,   0.  ,   0.  ,   0.  ,\n",
       "           0.  ,   0.  ],\n",
       "        [  0.  ,   0.  ,   0.  ,   0.  ,   0.  ,   0.  ,   0.  ,   0.  ,\n",
       "           0.  ,   0.  ],\n",
       "        [  0.  ,   0.  ,   0.  ,   0.  ,   0.  ,   0.  ,   0.  ,   0.  ,\n",
       "           0.  ,   1.  ],\n",
       "        [  0.  ,   0.  ,   0.  ,   0.  ,   0.  ,   0.  ,   0.  ,   0.  ,\n",
       "           0.  ,   0.  ]])"
      ]
     },
     "execution_count": 97,
     "metadata": {},
     "output_type": "execute_result"
    }
   ],
   "source": [
    "nx.to_numpy_matrix(XG)"
   ]
  },
  {
   "cell_type": "code",
   "execution_count": 98,
   "metadata": {},
   "outputs": [
    {
     "data": {
      "text/plain": [
       "{1: [2],\n",
       " 2: [],\n",
       " 3: [],\n",
       " 4: [5],\n",
       " 5: [],\n",
       " 's': ['u', 'x'],\n",
       " 'u': ['v', 'x'],\n",
       " 'v': ['y'],\n",
       " 'x': ['u', 'v', 'y'],\n",
       " 'y': ['s', 'v']}"
      ]
     },
     "execution_count": 98,
     "metadata": {},
     "output_type": "execute_result"
    }
   ],
   "source": [
    "nx.to_dict_of_lists(XG)"
   ]
  },
  {
   "cell_type": "code",
   "execution_count": 99,
   "metadata": {},
   "outputs": [
    {
     "data": {
      "text/plain": [
       "{1: {2: {'color': 'red', 'eps': 10, 'size': 300, 'weight': 0.84}},\n",
       " 2: {},\n",
       " 3: {},\n",
       " 4: {5: {}},\n",
       " 5: {},\n",
       " 's': {'u': {'weight': 10}, 'x': {'weight': 5}},\n",
       " 'u': {'v': {'weight': 1}, 'x': {'weight': 2}},\n",
       " 'v': {'y': {'weight': 1}},\n",
       " 'x': {'u': {'weight': 3}, 'v': {'weight': 5}, 'y': {'weight': 2}},\n",
       " 'y': {'s': {'weight': 7}, 'v': {'weight': 6}}}"
      ]
     },
     "execution_count": 99,
     "metadata": {},
     "output_type": "execute_result"
    }
   ],
   "source": [
    "nx.to_dict_of_dicts(XG)"
   ]
  },
  {
   "cell_type": "code",
   "execution_count": 129,
   "metadata": {},
   "outputs": [
    {
     "data": {
      "text/plain": [
       "99"
      ]
     },
     "execution_count": 129,
     "metadata": {},
     "output_type": "execute_result"
    }
   ],
   "source": [
    "XG.nodes[1]['eps']"
   ]
  },
  {
   "cell_type": "code",
   "execution_count": 121,
   "metadata": {},
   "outputs": [
    {
     "data": {
      "text/plain": [
       "99"
      ]
     },
     "execution_count": 121,
     "metadata": {},
     "output_type": "execute_result"
    }
   ],
   "source": [
    "# node 1 doesn't have eps yet so declaring it now\n",
    "# one can acccess node attribute that doesn't exist yet\n",
    "XG.nodes[1]['eps']=99\n",
    "XG.nodes[1]['eps']"
   ]
  },
  {
   "cell_type": "code",
   "execution_count": 119,
   "metadata": {},
   "outputs": [
    {
     "data": {
      "text/plain": [
       "100"
      ]
     },
     "execution_count": 119,
     "metadata": {},
     "output_type": "execute_result"
    }
   ],
   "source": [
    "XG.nodes[3]['eps']"
   ]
  },
  {
   "cell_type": "code",
   "execution_count": 114,
   "metadata": {},
   "outputs": [
    {
     "data": {
      "text/plain": [
       "[('s', None),\n",
       " ('u', None),\n",
       " ('x', None),\n",
       " ('v', None),\n",
       " ('y', None),\n",
       " (1, None),\n",
       " (2, None),\n",
       " (3, 100),\n",
       " (4, 4),\n",
       " (5, None)]"
      ]
     },
     "execution_count": 114,
     "metadata": {},
     "output_type": "execute_result"
    }
   ],
   "source": [
    "# access a list of certain attributes\n",
    "list(XG.nodes(data='eps'))"
   ]
  },
  {
   "cell_type": "code",
   "execution_count": null,
   "metadata": {},
   "outputs": [],
   "source": [
    "# in the lqr case\n",
    "# want to be able to store connectivity, i.e. which node a node leads to\n",
    "# yet for each node"
   ]
  }
 ],
 "metadata": {
  "kernelspec": {
   "display_name": "Python 3",
   "language": "python",
   "name": "python3"
  },
  "language_info": {
   "codemirror_mode": {
    "name": "ipython",
    "version": 3
   },
   "file_extension": ".py",
   "mimetype": "text/x-python",
   "name": "python",
   "nbconvert_exporter": "python",
   "pygments_lexer": "ipython3",
   "version": "3.6.9"
  }
 },
 "nbformat": 4,
 "nbformat_minor": 4
}
