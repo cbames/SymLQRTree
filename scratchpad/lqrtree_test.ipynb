{
 "cells": [
  {
   "cell_type": "code",
   "execution_count": 1,
   "metadata": {},
   "outputs": [],
   "source": [
    "import pydrake\n",
    "import math\n",
    "import warnings\n",
    "import random\n",
    "\n",
    "import numpy as np\n",
    "\n",
    "import matplotlib.pyplot as plt\n",
    "import networkx as nx\n",
    "from pydrake.trajectories import PiecewisePolynomial\n",
    "from pydrake.solvers import mathematicalprogram as mp\n",
    "from pydrake.systems.framework import InputPortSelection, OutputPortSelection, Context\n",
    "from pydrake.systems.primitives import LinearSystem,FirstOrderTaylorApproximation\n",
    "from pydrake.systems.trajectory_optimization import (\n",
    "    AddDirectCollocationConstraint, DirectCollocation,\n",
    "    DirectCollocationConstraint, \n",
    "    TimeStep,\n",
    ")\n",
    "from pydrake.systems.controllers import LinearQuadraticRegulator\n",
    "\n",
    "from pydrake.examples.pendulum import (PendulumPlant, PendulumState)\n",
    "\n",
    "# from enum import Enum"
   ]
  },
  {
   "cell_type": "code",
   "execution_count": 2,
   "metadata": {},
   "outputs": [
    {
     "name": "stdout",
     "output_type": "stream",
     "text": [
      "Color.BLUE\n",
      "False\n"
     ]
    }
   ],
   "source": [
    "#enum example \n",
    "from enum import Enum\n",
    "class Color(Enum):\n",
    "    RED = 1\n",
    "    GREEN = 2\n",
    "    BLUE = 3\n",
    "print(Color.BLUE)\n",
    "print(Color.BLUE==3)"
   ]
  },
  {
   "cell_type": "code",
   "execution_count": 2,
   "metadata": {},
   "outputs": [],
   "source": [
    "class TreeOptions:\n",
    "    \"\"\"\n",
    "    A helpful class/struct that holds all \n",
    "    argument for constructing a lqr tree\n",
    "    \"\"\"\n",
    "    def __init__(self):\n",
    "        self.nX=2\n",
    "        self.nU=1\n",
    "        self.goal_point=np.array([2,0])\n",
    "        self.dt=.05\n",
    "        self.input_bounds=np.array([0,1])\n",
    "        self.state_bounds=np.array([0,1])\n",
    "#two ways of creating options, \n",
    "#one way is to change class\n",
    "#the other is to change variables\n",
    "option=TreeOptions()\n",
    "option.nX=2\n",
    "option.nU=1\n",
    "option.goal_point=np.array([2,0])\n",
    "option.dt=.05\n",
    "option.input_bounds=np.array([0,1])\n",
    "option.state_bounds=np.array([0,1])"
   ]
  },
  {
   "cell_type": "code",
   "execution_count": null,
   "metadata": {},
   "outputs": [],
   "source": [
    "def testSample(self,xsample):\n",
    "    #test whether the current policy covers this sample, i.e. can drive it to goal basin\n",
    "    #assume stability in goal basin, which is done before calling this function\n",
    "    #cases: \n",
    "    #flag=1: already in goal basin or \n",
    "    #        the policy drives it to goal without violating any funnel bound\n",
    "    #flag=2: not in any funnel\n",
    "    #flag=3: in at least one funnel/node, and can successfully reach the goal \n",
    "    #                                     without violating any funnel bound\n",
    "    #flag=4: in at least one funnel/node, and can successfully reach the goal \n",
    "    #                                     but with violating some funnel bound\n",
    "    #flag=5: in at least one funnel/node, but can't reach the goal\n",
    "    \n",
    "    #question: what if a node is covered by multiple funnels? \n",
    "    #Do you test all of them or just the closest one\n",
    "    #How abt we keep testing until no longer a funnel contains this node\n",
    "    ####################################################\n",
    "    \n",
    "    #check if the sample is already in the goal node by comparing distance with goal node’s eps\n",
    "    If self.inGoalBasin(xsample):\n",
    "        return flag=1#syntax's probably off\n",
    "\n",
    "    closest_node_idx=self.findFunnel(xsample)#find the closest first\n",
    "                                            #also the start pt for policy\n",
    "    \n",
    "    #check if in any funnel\n",
    "    If closest_node_idx=-1:\n",
    "        return flag=2#not in any funnel\n",
    "\n",
    "    #now if the sample is in funnel $node_idx, test if the current policy can drive it to the goal \n",
    "    #via simulation , give the closest_node_idx to simTree()\n",
    "\n",
    "    simulated_traj=self.simTree(xSample, closest_node_idx, dt)#dt is a constant\n",
    "    \n",
    "    #If xsample doesn’t end up in goal when going through this trajectory, need to shrink coverage\n",
    "    #only need to check the last point\n",
    "    if not self.inGoalBasin(simulated_traj[-1]):\n",
    "        #Shrink all funnels and check if any eps<0.1, delete corresponding nodes\n",
    "        undersize_node_idx=self.shrinkFunnel(closest_node_idx)#need to implement\n",
    "                                                    #returns the index of closest node to the goal \n",
    "                                                    #with eps<.1\n",
    "        if undersize_node_idx!=-1:\n",
    "            self.deleteNode(undersize_node_idx)\n",
    "        return flag=4#? or 5\n",
    "#     Else xsample ends up in goal when going through this trajectory,         \n",
    "\n",
    "#     check if it stays inside all funnel when going through the trajectory, return flag=1 for this case    \n",
    "    last_failed_idx=self.checkTraj(simulated_traj,closest_node_idx)\n",
    "    if last_failed_idx==-1:\n",
    "        #all pts in bound when moving along the trajectory\n",
    "        return flag=3\n",
    "\n",
    "#         #else failed, shrink eps for all funnels before a funnel at which, the sample lands outside, \n",
    "#         effectively, you would find the closest funnel to the goal that the sample fails to land in \n",
    "#         and shrink the eps for all funnels before it (shrink without including boundary), \n",
    "#         check if any eps<0.1, delete corresponding nodes\n",
    "    undersize_node_idx=self.shrinkFunnelUntil(closest_node_idx,last_failed_idx)\n",
    "    if undersize_node_idx!=-1:\n",
    "        self.deleteNode(undersize_node_idx)\n",
    "        return flag=4#\n",
    "    #is there an else case\n",
    "    \n",
    "def findFunnel(self,xsample):\n",
    "    #find the closest funnel to the sample pt and return the node index\n",
    "    #not ambiguous\n",
    "    \n",
    "    #calculate the distance from all funnel center to the sample\n",
    "    #filter only valid pts\n",
    "    #return the index of the closest valid funnel id\n",
    "    x=0\n",
    "def inGoalBasin(self,node_idx):\n",
    "    #return whether the pt is in goal node\n",
    "    return False\n",
    "def deleteNode(self,idx_to_del):\n",
    "    #assume idx not at goal and has a path to goal\n",
    "    #delete the node at index and dangling trajectories\n",
    "    #actually this has to be recursive\n",
    "    \n",
    "    #first set the prev node for the next node to -1/null\n",
    "    #not sure if the neighbors are directed? I believe so\n",
    "    #every node should only have one next node, which might be null\n",
    "    next_node_idx=next(XG.neighbors(idx_to_del))#again want to make sure not at goal node\n",
    "    self.G.nodes[idx_to_del]['prev']=-1\n",
    "    #now the helper doesn't have to set the prev entry of the remaining pts in graph\n",
    "    self.deleteNodeHelper(idx_to_del)\n",
    "    \n",
    "def deleteNodeHelper(self,idx_to_del):\n",
    "    #this recursively remove any nodes connected to the idx to del node\n",
    "    #not sure if the iterator would still be valid if the node is deleted\n",
    "    #want to check that\n",
    "    RG_cp=self.G.reverse()#might be creating too many copies, could just make this global tho\n",
    "    to_del_iter=RG_cp.neighbors(idx_to_del)\n",
    "    while True:\n",
    "        try:\n",
    "            self.deleteNodeHelper(next(to_del_iter))\n",
    "#             print(\"s's neighbours are \",next(iter_))\n",
    "        except (StopIteration,Exception) as e:\n",
    "#             print(e)\n",
    "            break\n",
    "    self.G.remove_node(idx_to_del)\n",
    "    \n",
    "        \n",
    "def checkTraj(self,simulated_traj,closest_node_idx):\n",
    "    #assume simulated traj include the closest node idx\n",
    "    #check if the simulated trajectory all fall within the the trajectory from node idx\n",
    "    #return the last node's idx, at which the trajectory falls outside the eps\n",
    "    \n",
    "    cur_node_idx=closest_node_idx\n",
    "    node_cnt=simulated_traj.shape[0]#? #total number of nodes traveled during the simulation\n",
    "             #assuming each action at a node gurantee it jumps to the next node\n",
    "    last_failed_idx=-1\n",
    "    for i in range(node_cnt):\n",
    "        node_loc=self.G.nodes[cur_node_idx]['X0']\n",
    "        node_eps=self.G.nodes[cur_node_idx]['eps']\n",
    "        sim_loc=simulated_traj[0]\n",
    "        #todo: check if the simulated location is within node's eps\n",
    "        if 1:#if failed\n",
    "            last_failed_idx=cur_node_idx\n",
    "        #move along the trajectory\n",
    "        cur_node_idx=next(XG.neighbors(cur_node_idx))\n",
    "                                        #this will raise an exception \n",
    "                                        #if the last node is goal node which has no next node\n",
    "    return last_failed_idx\n",
    "def shrinkFunnel(self,closest_node_idx):\n",
    "    #shrink all funnels along this trajectory, basically until the goal\n",
    "    #return the index of the closest node to the goal which has eps<.1\n",
    "    return self.shrinkFunnelUntil(closest_node_idx,GOAL_NODE_IDX)\n",
    "def shrinkFunnelUntil(self,closest_node_idx,last_failed_idx):\n",
    "    #start node(inclusive): closest node\n",
    "    #last node(inclusive): \n",
    "    #shrink all funnels along this trajectory until last failed node\n",
    "    #return the index of the closest node to last failed node which has eps<.1\n",
    "    \n",
    "    #while \n",
    "    \n",
    "    x=0\n",
    "    \n",
    "def simTree(self, xSample, closest_node_idx, dt):\n",
    "    return 0\n",
    "    #Simulate the actual trajectory for xsample moving along the funnels from funnel closest_node_idx\n",
    "#Only return actual simulated trajectory along with the funnel trajectory and corresponding eps, not comparing their eps inside or not\n",
    "    \n",
    "#     For each funnel along the trajectory\n",
    "#         Use ode45/equivalent to simulate where it ends up after dt with applied u at this funnel and then use this location to apply u calculated from next funnel\n"
   ]
  },
  {
   "cell_type": "code",
   "execution_count": 4,
   "metadata": {},
   "outputs": [
    {
     "name": "stdout",
     "output_type": "stream",
     "text": [
      "0\n",
      "1\n",
      "2\n",
      "3\n",
      "4\n",
      "5\n",
      "6\n",
      "7\n",
      "8\n"
     ]
    }
   ],
   "source": [
    "for i in range(9):\n",
    "    print(i)"
   ]
  },
  {
   "cell_type": "code",
   "execution_count": 3,
   "metadata": {},
   "outputs": [],
   "source": [
    "class LQRTree: \n",
    "\n",
    "    def __init__(self, nX, nU, goal_point, dt, plant, input_bounds, \n",
    "                 state_bounds):\n",
    "#     \"\"\"init all variables related to constructing trees\n",
    "\n",
    "# maybe merge the input arguments into a single struct for better readability\n",
    "\n",
    "# There are going to be  a lot of parameters that get set here. \n",
    "\n",
    "# dynamics: the plant that the tree will be constructed for \n",
    "# input_bounds:   upper and lower bounds on the control inputs \n",
    "# state_bounds:   bounds on the state space that we care about \n",
    "# num_nearest_neighbors: The number of nearest neighbors to consider, since considered 1 in all cases, not declaring\n",
    "# time_delta: the time descretization for trajectory \n",
    "# Q: state cost matrix \n",
    "# R: action cost matrix \n",
    "# V_err: amount of error we're willing to tolerate in the value function \n",
    "# goal_point: the goal of the LQR tree \"\"\"\n",
    "\n",
    "        # save argument for object construction \n",
    "        #self.dim=dim#dim[0]--nX,dim[1]--nU\n",
    "        self.nX=nX\n",
    "        self.nU=nU\n",
    "#         self.goal_node=goal_node\n",
    "        self.plant = plant \n",
    "        #context isn't really needed, could always create another one\n",
    "        self.context =  self.plant.CreateDefaultContext()\n",
    "#         self.cost_fun = cost_fun\n",
    "        self.goal_point = goal_point \n",
    "        #self.InputLimit = InputLimit\n",
    "        self.input_bounds=input_bounds\n",
    "        self.state_bounds=state_bounds\n",
    "        \n",
    "        assert(self.state_bounds.shape[0]==self.nX)\n",
    "        #otherwise, bounds and nX dimension mismatch\n",
    "        assert(self.input_bounds.shape[0]==self.nU)\n",
    "        #otherwise, bounds and nU dimension mismatch\n",
    "        \n",
    "        self.dt=dt\n",
    "        \n",
    "        self.node_cnt=0# stores how many nodes has been added to the graph,\n",
    "                        # like the idx in the previous code\n",
    "                        # the next node to add has index = node_cnt\n",
    "        \n",
    "        \n",
    "        # init other variables\n",
    "        self.G=nx.DiGraph()# node index serves as the key to access node from graph\n",
    "        self.Q=np.eye(nX)*2#2 is user defined\n",
    "        self.R=np.eye(nU)*5#5 is user defined\n",
    "        self.nNodesInit = 10000\n",
    "        \n",
    "        \n",
    "        # to get a list of certain variable\n",
    "        #list(self.G.nodes(data='node_attr'))\n",
    "        \n",
    "#         self.S = zeros([self.nX,self.nX,self.nNodesInit])\n",
    "#         self.S_1 = zeros([self.nX, self.nNodesInit])\n",
    "#         self.S_2  = zeros(self.nNodesInit) #Question5: It seems that there is no S_2 in pendulum???\n",
    "#         self.A = zeros([self.nX,self.nX,self.nNodesInit]) \n",
    "#         self.B = zeros([self.nX,self.nU, self.nNodesInit]) \n",
    "#         self.K = zeros([self.nX,self.nNodesInit]) \n",
    "#         self.epsH = zeros(self.nNodesInit)  \n",
    "#         self.T = zeros(self.nNodesInit)  \n",
    "#         self.U0 = zeros([self.nU,self.nNodesInit])  \n",
    "#         self.X0 = zeros([self.nX,self.nNodesInit]) \n",
    "#         self.Qval = zeros(self.nNodesInit)\n",
    "#         self.Vx = zeros(self.nNodesInit) #Question4: I can't understand how to calculate Vx and Vf and Vx_pt? \n",
    "                                            #Cell object? \n",
    "        # add goal point to graph\n",
    "        context_goal=self.plant.CreateDefaultContext()\n",
    "        context_goal.SetContinuousState(self.goal_point)#what's set discrete state\n",
    "        self.plant.get_input_port(0).FixValue(context_goal, 0)#if input port not set, it doesn't seem the taylor approx can run, the number of ports vary plants by plants\n",
    "        affine_sys_goal=FirstOrderTaylorApproximation(self.plant,context_goal)\n",
    "        K_goal,S_goal = LinearQuadraticRegulator(affine_sys_goal.A(), affine_sys_goal.B(), self.Q, self.R)\n",
    "        \n",
    "        # new_node_idx=node_cnt\n",
    "        # the following code add a node with index/label = node_cnt,\n",
    "        # along with attributes for this node, like K,S,epsH\n",
    "        self.G.add_node(self.node_cnt,K=K_goal[0],S=S_goal[0],\n",
    "                        A= affine_sys_goal.A(),B= affine_sys_goal.B(),\n",
    "                        epsH= 1,Vx= 0, \n",
    "                        #Question6: I don't know how to calculate Vx\n",
    "                        Qval = 0, X0 = self.goal_point,\n",
    "                        T = 0,U0= np.array([0]))#want to add a prev info, \n",
    "                                                #the next node is implicitby the edge\n",
    "        print(\"attributes for goal node, also node[0]: \",self.G.nodes[0])\n",
    "        # always add 1 to node cnt when adding nodes\n",
    "        self.node_cnt=self.node_cnt+1\n",
    "        \n",
    "    def constructTree(self): \n",
    "# \"\"\"\n",
    "# \t1) build Time Invariant LQR solution around linearized goal point \n",
    "# \t2) Set bound on acceptable value function error \n",
    "# \t3) Randomly sample new point\n",
    "# \t4) Attempt to connect new point to goal point using treeConnect()\n",
    "# \t\t4.a) if successful construct funnel around trajectory \n",
    "# \t\t4.b) if not succesful go back to 3 \n",
    "# \t5) Probabilistically test all of the funnels,\n",
    "# \tif there is a high probability that a random sample will land \n",
    "# \tin a valid funnel, stop go to 2 and set a lower bound. repeat process until desired lower bound is achieved. \n",
    "\t\n",
    "# \t\"\"\"\n",
    "        #remeber to add goal node first\n",
    "        #add_goal_node(G,goal_node)\n",
    "        #goal already added at class construction\n",
    "\n",
    "        num_rl_iter=15\n",
    "        nSuccess=0\n",
    "        nSuccTerm=459\n",
    "        Q_thresh=62.5\n",
    "        Q_max=8000\n",
    "        \n",
    "        # for loop, number of full coverage iterations\n",
    "        for rl_step in range(num_rl_iter):\n",
    "\n",
    "\n",
    "            # while loop, if there are enough coverage or too many iterations\n",
    "            while nSuccess < nSuccTerm and Q_max > Q_thresh:\n",
    "                # generate a random sample in the range and \n",
    "                x_sample=getRandSample()\n",
    "\n",
    "                # test if this sample is covered (Barrett)\n",
    "                flag=test_sample(x_sample)\n",
    "\n",
    "                # if covered, continue\n",
    "                if flag==1:\n",
    "                    nSuccess=nSuccess+1\n",
    "                    continue\n",
    "\n",
    "                # else, add a new trajectory from this random sample to existing tree\n",
    "                add_traj_from_sample(x_sample)\n",
    "    \n",
    "            # end while loop\n",
    "            Q_max = Q_max*0.8#redundant with for loop?\n",
    "\n",
    "        #some more work here\n",
    "\n",
    "        # end for loop\n",
    "        \n",
    "\n",
    "    def test_sample(self, x_sample):\n",
    "        flag=0#to do: test sample and set flag\n",
    "        return flag\n",
    "    \n",
    "\n",
    "        \n",
    "    def getRandSample(self):\n",
    "        #either all use array or none uses array \n",
    "        x_rand=np.random.rand(self.nX)#,1)\n",
    "        left_bound=self.state_bounds[:,0]#.reshape(nX,1)\n",
    "        right_bound=self.state_bounds[:,1]#.reshape(nX,1)\n",
    "        diff=(right_bound-left_bound)\n",
    "        x_rand_adjusted=x_rand*diff+left_bound\n",
    "#         print(\"rand from np\",x_rand)\n",
    "#         print(\"diff\",diff)\n",
    "#         print(\"x_rand_adjusted\",x_rand_adjusted)#.flatten())\n",
    "        \n",
    "        return x_rand_adjusted\n",
    "#         x_random = zeros(self.nX)\n",
    "#         for i in range(self.nX):\n",
    "#             x_random[i] = random.uniform(self.input_bounds[i,0],self.input_bounds[i,1])\n",
    "#         return x_random\n",
    "\n",
    "    def add_traj_from_sample(self, x_sample):\n",
    "\n",
    "        # first find a (good) goal node in the existing tree to conect to \n",
    "        # use value_approx to find all (good) nodes\n",
    "        context=self.plant.CreateDefaultContext()\n",
    "        context.SetContinuousState(x_sample)#what's set discrete state\n",
    "        self.plant.get_input_port(0).FixValue(context, 0)#if input port not set, it doesn't seem the taylor approx can run, the number of ports vary plants by plants\n",
    "        affine_sys=FirstOrderTaylorApproximation(self.plant,context)\n",
    "        \n",
    "        K,S_rand= LinearQuadraticRegulator(affine_sys.A(), affine_sys.B(), self.Q, self.R)\n",
    "        lqrdist=lambda x1,x2: np.matmul(np.matmul((x2-x1),S_rand),(x2-x1))#might need reshape\n",
    "\n",
    "#         #for 1/3 case, search and find node with lowest lqrdist\n",
    "#         #for the rest, randomly pick one from ok neighbours\n",
    "#         goal_node=1\n",
    "\n",
    "        arr_epsH=np.array(self.G.nodes(data='epsH'))[:,1]\n",
    "        arr_X0=np.array(self.G.nodes(data='X0'))[:,1]\n",
    "        arr_Qval=np.array(tree.G.nodes(data='Qval'))[:,1]\n",
    "        #want to be able to represent epsH in an array form\n",
    "\n",
    "#         if np.random.randint(2)==1:\n",
    "#              goal_indices = np.where(arr_epsH>0.05)[0] #Question1:Idx or Idx+1??\n",
    "#              distances=[]\n",
    "#              distances=[np.sqrt(np.sum(np.square(arr_X0[indice]-x_sample))) \n",
    "#                         for indice in goal_indices]\n",
    "#              nearest=np.argsort(distances)\n",
    "#              goal_node=goal_indices(nearest(0))\n",
    "#         elif rl_step > 1:#repeated as below\n",
    "#              ok_neighbors = np.where(arr_Qval<self.valueApprox(x_sample))[0]\n",
    "#              ok_neighbors = np.where(arr_epsH[ok_neighbors]>0.05)[0]\n",
    "#              ok_ind = np.random.randint(len(ok_neighbors))\n",
    "#              goal_node=ok_neighbors(ok_ind)\n",
    "#         else\n",
    "#              #ok_neighbors = list(range(0,self.Idx)) #Question2:Idx or Idx+1??# what for\n",
    "#              ok_neighbors = np.where(arr_epsH>0.05)[0]\n",
    "#              ok_ind = np.random.randint(len(ok_neighbors))\n",
    "#              goal_node=ok_neighbors(ok_ind)\n",
    "\n",
    "\n",
    "#         # use snopt to find a new trajectory\n",
    "        connect, x_traj_pts, u_traj_pts = treeConnect(self, x_sample, X0(goal_node))\n",
    "#         # if not connect continue next while loop\n",
    "        if connect == 0:\n",
    "            print('Not enough neighbors!')\n",
    "        # else, then add breakpoints of the trajectory to the graph\n",
    "        else:\n",
    "            add_traj(x_traj_pts, u_traj_pts, goal_node) #Question3: how to add Idx to each node?\n",
    "\n",
    "    def treeConnect(self, start_pt, end_pt): \n",
    "        \n",
    "        context = self.plant.CreateDefaultContext()\n",
    "        context.SetContinuousState(np.array([3.14, 0]))\n",
    "\n",
    "        # Setup direct collocation trajectory opitmization \n",
    "        dircol = DirectCollocation(\n",
    "            self.plant, context, num_time_samples=21, minimum_timestep=0.02,\n",
    "            maximum_timestep=0.5 #Question14\n",
    "            ,\n",
    "            input_port_index=InputPortSelection.kUseFirstInputIfItExists,\n",
    "            assume_non_continuous_states_are_fixed=False)\n",
    "\n",
    "        dircol.AddDurationBounds(lower_bound=0.5, upper_bound=3.0)\n",
    "        \n",
    "        dircol.AddBoundingBoxConstraint(start_pt,\n",
    "                            start_pt,\n",
    "                            dircol.initial_state())\n",
    "        dircol.AddBoundingBoxConstraint(end_pt,\n",
    "                            end_pt,\n",
    "                            dircol.final_state())\n",
    "        # More elegant version is blocked on drake #8315:\n",
    "        # dircol.AddLinearConstraint(dircol.initial_state()\n",
    "        #                               == initial_state.get_value())\n",
    "    \n",
    "        #make start state equal to start point \n",
    "#         dircol.AddLinearConstraint(dircol.initial_state() == start_pt)\n",
    "    \n",
    "        #make end state equal to end pt \n",
    "#         dircol.AddLinearConstraint(dircol.final_state()   == end_pt)\n",
    "\n",
    "        #construct collocation constraints\n",
    "        constraint = DirectCollocationConstraint(plant, context)    \n",
    "        AddDirectCollocationConstraint(constraint, dircol.timestep(0),\n",
    "                                          dircol.state(0), dircol.state(1),\n",
    "                                          dircol.input(0), dircol.input(1),\n",
    "                                          dircol)\n",
    "\n",
    "        #Input Constraint \n",
    "        u = dircol.input();\n",
    "        print(u)\n",
    "        \n",
    "        dircol.AddConstraintToAllKnotPoints(u[0]>=self.input_bounds[0,0]);\n",
    "        dircol.AddConstraintToAllKnotPoints(u[0] <= self.input_bounds[0,1]);\n",
    "\n",
    "\n",
    "        #Trajectory optimization requires an initial guess, even if it's not very good. \n",
    "        initial_u = PiecewisePolynomial.ZeroOrderHold([0, .3*21],\n",
    "                                                   np.zeros((1, 2)))\n",
    "        initial_x = PiecewisePolynomial()\n",
    "    \n",
    "        dircol.SetInitialTrajectory(traj_init_u=initial_u,\n",
    "                                    traj_init_x=initial_x)\n",
    "\n",
    "\n",
    "#         dircol.AddRunningCost(self.cost_fun)\n",
    "        # hardcoding cost function for now\n",
    "        dircol.AddRunningCost(2*u[0]**2)\n",
    "\n",
    "        # Solve the trajectory optimization \n",
    "        result = mp.Solve(dircol)\n",
    "\n",
    "\n",
    "        #Retrieve the input and state trajectories \n",
    "        input_traj = dircol.ReconstructInputTrajectory(result=result)\n",
    "        state_traj = dircol.ReconstructStateTrajectory(result=result)\n",
    "\n",
    "        # yao: there are problem with running codes above related to adding constraints\n",
    "        # generate a time series with fixed interval excluding the remainder portion at beginning\n",
    "        # assume u and x trajectory shares the same start and end time\n",
    "        # returning forward sequence trajectory for easier addition\n",
    "        # but adding them in reverse\n",
    "        time_series=np.flip(np.arange(input_traj.end_time(), \n",
    "                           input_traj.start_time(), -self.dt))\n",
    "#         reverse_time_series=np.arange(input_traj.end_time(), \n",
    "#                            input_traj.start_time(), -self.dt)\n",
    "        \n",
    "        input_traj_pts = np.hstack([input_traj.value(t) for t in                                          \n",
    "                      time_series])#u traj\n",
    "        state_traj_pts = np.hstack([state_traj.value(t) for t in                                          \n",
    "                      time_series])#x traj\n",
    "        \n",
    "        #debugging part that makes a plot of state/x traj\n",
    "        cmds = np.hstack([input_traj.value(t) for t in                                          \n",
    "                      np.linspace(input_traj.start_time(),                                          \n",
    "                      input_traj.end_time(), 100)]) \n",
    "        x_knots = np.hstack([state_traj.value(t) for t in                                          \n",
    "                      np.linspace(input_traj.start_time(),                                          \n",
    "                      input_traj.end_time(), 100)])\n",
    "        plt.figure() \n",
    "        plt.plot(x_knots[0, :], x_knots[1, :]) \n",
    "        print(\"traj takes \",input_traj.end_time())\n",
    "        print(\"x\")\n",
    "        print(x_knots[:,0])\n",
    "        print(x_knots[:,-1])\n",
    "\n",
    "        print(cmds[0,0])\n",
    "        print(cmds[0,-1])\n",
    "\n",
    "        #connect set to 0 to run for now\n",
    "        #the last element of input_traj_pts is one at end pt \n",
    "        #which is already in the graph, so don't add it\n",
    "        return 0,state_traj_pts,input_traj_pts\n",
    "#         return [input_traj, state_traj]\n",
    "\n",
    "\n",
    "#     def funnelConstruction(): \n",
    "#     \"\"\"\n",
    "#     Use TVLQR to construct a Region of Attraction around the trajectory\n",
    "#     \"\"\"\n",
    "    def valueApprox(self, x_sample):\n",
    "        arr_Qval=np.array(tree.G.nodes(data='Qval'))[:,1]\n",
    "        value_estimate = float('inf')\n",
    "        for idx in range(self.node_cnt):\n",
    "            dx0 = x_sample - self.G.nodes[idx]['X0']\n",
    "            uk= self.G.nodes[idx]['U0']\n",
    "            # J formula questionable, barret's code uses S while Tedrake uses S for approximation and a summation for accurate calculation\n",
    "            J = np.matmul(np.matmul(dx0,self.Q),dx0)+np.matmul(np.matmul(uk,self.R),uk)\n",
    "            if (J+arr_Qval[idx]) < value_estimate:\n",
    "                value_estimate = J+arr_Qval[idx]\n",
    "        return value_estimate\n",
    "    \n",
    "    # there might be a problem with sequence \n",
    "    def QvalueTraj(self, i, j, x_traj, u_traj):\n",
    "        #temporarily commented out for the rest of the codes to run\n",
    "        return 100\n",
    "#         time_inverse = np.arange(x_traj.end_time(),x_traj.start_time(),-self.dt)\n",
    "#         time_pts = time_inverse[::-1]\n",
    "#         len_traj = len(time_pts)\n",
    "#         time_diff = j - i\n",
    "#         discountFactor = 0.99\n",
    "#         Qval = 0\n",
    "#         for k in range(time_diff):\n",
    "#             xk = x_traj.value(time_pts[i+k])\n",
    "#             uk = u_traj.value(time_pts[i+k])\n",
    "#             Qval = Qval + math.pow(discountFactor,k)*self.dt*cost(xk, uk) #Question12: need Barrett to double check\n",
    "            \n",
    "#         return Qval\n",
    "    \n",
    "    def cost(self,xk,uk):\n",
    "        dx = xk - self.goal_point #Question11: how to use numpy array here to calculate?\n",
    "        g = np.matmul(np.matmul(dx,self.Q),dx)+np.matmul(np.matmul(uk,self.R),uk)\n",
    "        \n",
    "        return g        \n",
    "    \n",
    "    def add_traj(self, x_traj_pts, u_traj_pts, goal_node_Idx):#goal node Idx is local\n",
    "        # what should be the sequence of adding the trajectory\n",
    "        # adding it reversely saves a loop\n",
    "        \n",
    "        # Get discrete time points along trajectory\n",
    "        # already discretize in treeconnect\n",
    "#         time_inverse = np.arange(x_traj_pts.end_time(),x_traj_pts.start_time(),-self.dt)\n",
    "#         time_pts = time_inverse[::-1]\n",
    "        len_traj = x_traj_pts.shape[1]#number of nodes on the trajectory\n",
    "        \n",
    "        Q_base = 0\n",
    "#         if x_traj_pts.value(time_inverse[0]) != self.goal_point:\n",
    "        #why global goal?\n",
    "    #might be [:,-1] to access Question13\n",
    "#         if x_traj_pts[-1] != self.goal_point:#last pt should be the local goal node\n",
    "#             Q_base = Qval(goal_node_Idx) #Question7: I can't relate Idx to the end point to get Qval \n",
    "        #codes above temporarily commented out to remove dependece on the goal node idx and allow testing\n",
    "        \n",
    "        node_cnt_begin=self.node_cnt\n",
    "        prev_node_idx=goal_node_Idx\n",
    "        discountFactor = 0.99\n",
    "#         Idx_path = []\n",
    "        \n",
    "        # adding trajectory in reverse\n",
    "        # len traj must not be 0 or 1?\n",
    "        for i in range(len_traj-2,-1,-1): #Question8: Is range(len_traj)-1-0+1or not? Should we add Idx from end or begin?\n",
    "            traj_pt_i=x_traj_pts[:,i]\n",
    "            u_pt_i=u_traj_pts[:,i]\n",
    "            #linearize around this pt\n",
    "            context=self.plant.CreateDefaultContext()\n",
    "            context.SetContinuousState(traj_pt_i)#what's set discrete state\n",
    "            self.plant.get_input_port(0).FixValue(context, 0)#if input port not set, it doesn't seem the taylor approx can run, the number of ports vary plants by plants\n",
    "            affine_sys=FirstOrderTaylorApproximation(self.plant,context)\n",
    "            K_local,S_local = LinearQuadraticRegulator(affine_sys.A(), affine_sys.B(), self.Q, self.R)\n",
    "            \n",
    "            # need to be careful with i\n",
    "            qval=math.pow(discountFactor,i)*Q_base + self.QvalueTraj(i, len_traj, \n",
    "                                                                x_traj_pts, \n",
    "                                                                u_traj_pts)\n",
    "            prev_qval=self.G.nodes[prev_node_idx]['Qval']\n",
    "            #might be a divide/sqrt of zero here\n",
    "            vx= qval - prev_qval/ np.sqrt(np.sum(np.square(traj_pt_i-self.G.nodes[prev_node_idx]['X0'])))#might need a sum?\n",
    "            # the following code add a node with index/label = node_cnt,\n",
    "            # along with attributes for this node, like K,S,epsH\n",
    "            self.G.add_node(self.node_cnt,K=K_local[0],S=S_local[0],\n",
    "                        A= affine_sys.A(),B= affine_sys.B(),\n",
    "                        epsH= 1000,\n",
    "                        #Question9: What number should we initiate epsH? *0.8 may not appropriate\n",
    "                        Vx= vx,#need to figure out sequence of add nodes \n",
    "                        #Question6: I don't know how to calculate Vx\n",
    "                        Qval = qval, X0 = traj_pt_i,\n",
    "                        T = 0,#questionable, what's the use of this variable\n",
    "                        U0= u_pt_i)\n",
    "            \n",
    "            edge_weight=qval-prev_qval\n",
    "            self.G.add_edge(self.node_cnt,prev_node_idx,weight=edge_weight)\n",
    "#             print(\"attributes for goal node, also node[0]: \",self.G.nodes[0])\n",
    "            prev_node_idx=self.node_cnt\n",
    "            # always add 1 to node cnt when adding nodes\n",
    "            self.node_cnt=self.node_cnt+1\n",
    "            \n",
    "#             self.K[:,self.Idx+added_count] = K_local[0]\n",
    "#             self.S[:,:,self.Idx+added_count] = S_local[0]\n",
    "#             self.S_1[:,self.Idx+added_count] = 0\n",
    "#             self.A[:,:,self.Idx+added_count] = affine_sys.A()\n",
    "#             self.B[:,:,self.Idx+added_count] = affine_sys.B()\n",
    "#             self.epsH[self.Idx+added_count] = 1000 \n",
    "#             self.Qval[self.Idx+added_count] = math.pow(discountFactor,len_traj-i)*Q_base + QvalueTraj(i, len_traj, x_traj_pts, u_traj_edges)\n",
    "#             self.Vx[self.Idx+added_count] = (self.Qval[self.Idx+added_count] - self.Qval[self.Idx+added_count-1])/np.sqrt(np.square(x_traj_pts.value(time_pts[i])-x_traj_pts.value(time_pts[i-1])))\n",
    "#             #Question6: I don't know how to calculate Vx, and the difference between the first and last point for Vx and weight has problem\n",
    "#             self.X0[:,self.Idx+added_count] = traj_i\n",
    "#             self.T[self.Idx+added_count] = time_pts[i]\n",
    "#             self.U0[:,self.Idx+added_count] = u_traj_edges.value(time_pts[i])\n",
    "#             added_count = added_count+1\n",
    "      \n",
    "    def print_tree(self):\n",
    "        \"\"\"\n",
    "        print all the essential/helpful information about the constructed tree\n",
    "        \"\"\"\n",
    "        print(\"This tree now has %d nodes\"%(self.node_cnt))\n",
    "        XG=self.G\n",
    "        nodes=self.G.nodes\n",
    "        cnt=0\n",
    "        # iterate over nodes\n",
    "        for n in list(self.G.nodes):\n",
    "            cnt=cnt+1\n",
    "            print(\"node name: \",n,\", location: \",XG.nodes[n]['X0'],\", action: \",XG.nodes[n]['U0'])\n",
    "            #only printing 20 nodes\n",
    "            if(cnt>20):\n",
    "                print(\"...\")\n",
    "                break\n",
    "    \n",
    "    def plot_tree(self):\n",
    "        \"\"\"\n",
    "        PLot the tree for visualization of the sequence nodes are added to the tree\n",
    "        It might also be possible to plot certain attributes\n",
    "        \n",
    "        mayavi could be used to visualize in 3D\n",
    "        \"\"\"\n",
    "        XG=self.G\n",
    "#         nx.draw(XG, pos=nx.circular_layout(XG), with_labels=True, node_color='r', edge_color='b')\n",
    "        nx.draw(XG, pos=dict(XG.nodes(data='X0')), \n",
    "                with_labels=True, node_color='r', edge_color='b')\n",
    "#             Idx_path #Questwww.ion10: how to calculate Idx_path and edges?\n",
    "#     def saveLQRTree(): \n",
    "#     \"\"\"\n",
    "#     Save the LQR Tree using pickle so that it can be used later. \n",
    "#     \"\"\"\n",
    "\n",
    "#     def loadLQRTree(): \n",
    "#     \"\"\" \n",
    "#     load a pickled tree so that tree construction can be bypassed\n",
    "#     \"\"\"\n",
    "#     def QvaluePt(self, x, u):\n",
    "        \n",
    "\n",
    "#     def runLQRTreeController(): \n",
    "#     \"\"\" \n",
    "#     Must have a loaded tree from either the construct tree or LoadLQRTree functions. \n",
    "#     \"\"\""
   ]
  },
  {
   "cell_type": "code",
   "execution_count": 4,
   "metadata": {},
   "outputs": [
    {
     "name": "stdout",
     "output_type": "stream",
     "text": [
      "attributes for goal node, also node[0]:  {'K': array([4.17813692, 1.48084422]), 'S': array([17.91142018,  5.22267115]), 'A': array([[ 0.        ,  1.        ],\n",
      "       [ 8.16480093, -0.4       ]]), 'B': array([[0.],\n",
      "       [4.]]), 'epsH': 1, 'Vx': 0, 'Qval': 0, 'X0': array([2, 0]), 'T': 0, 'U0': array([0])}\n"
     ]
    }
   ],
   "source": [
    "# object init test\n",
    "plant = PendulumPlant()\n",
    "goal_point=np.array([2,0])\n",
    "dt=.05\n",
    "state_bounds=np.array([[-1,0],\n",
    "                      [2,3]],dtype=np.float64)\n",
    "input_bounds=np.array([[-3,3]],dtype=np.float64)\n",
    "tree=LQRTree(2,1,goal_point,dt,plant,input_bounds,state_bounds)\n"
   ]
  },
  {
   "cell_type": "code",
   "execution_count": 5,
   "metadata": {},
   "outputs": [
    {
     "name": "stdout",
     "output_type": "stream",
     "text": [
      "This tree now has 1 nodes\n",
      "node name:  0 , location:  [2 0] , action:  [0]\n"
     ]
    },
    {
     "data": {
      "image/png": "[encoded data removed]",
      "text/plain": [
       "<matplotlib.figure.Figure at 0x7f994c162898>"
      ]
     },
     "metadata": {},
     "output_type": "display_data"
    }
   ],
   "source": [
    "# print_tree & plot tree test\n",
    "tree.print_tree()\n",
    "tree.plot_tree()"
   ]
  },
  {
   "cell_type": "code",
   "execution_count": 6,
   "metadata": {},
   "outputs": [],
   "source": [
    "# add_traj_from_sample test untested, need tree_connect to return connect function\n",
    "# QvalueTraj not tested, not implemented correctly\n",
    "# cost not tested"
   ]
  },
  {
   "cell_type": "code",
   "execution_count": 7,
   "metadata": {},
   "outputs": [
    {
     "name": "stdout",
     "output_type": "stream",
     "text": [
      "[Variable('u(0)', Continuous)]\n",
      "traj takes  3.0\n",
      "x\n",
      "[0. 0.]\n",
      "[2.0000000e+00 4.4408921e-16]\n",
      "-0.8668279022953375\n",
      "0.5333167048340649\n"
     ]
    },
    {
     "data": {
      "image/png": "[encoded data removed]",
      "text/plain": [
       "<matplotlib.figure.Figure at 0x7f98fdb670b8>"
      ]
     },
     "metadata": {},
     "output_type": "display_data"
    }
   ],
   "source": [
    "#tree connect test\n",
    "#debug image of the generated trajectory drawn in code\n",
    "start_pt=np.array([[0],[0]],dtype=np.float64)\n",
    "# end_pt=np.array([[3],[0]],dtype=np.float64)\n",
    "connect,x_traj_pts,u_traj_pts=tree.treeConnect(start_pt, goal_point)"
   ]
  },
  {
   "cell_type": "code",
   "execution_count": 8,
   "metadata": {},
   "outputs": [
    {
     "name": "stdout",
     "output_type": "stream",
     "text": [
      "This tree now has 60 nodes\n",
      "node name:  0 , location:  [2 0] , action:  [0]\n",
      "node name:  1 , location:  [1.97840902 0.80537818] , action:  [0.66951247]\n",
      "node name:  2 , location:  [1.9144804  1.63750864] , action:  [0.80570823]\n",
      "node name:  3 , location:  [1.80948063 2.47645757] , action:  [0.941904]\n",
      "node name:  4 , location:  [1.6646762  3.30229114] , action:  [1.07809976]\n",
      "node name:  5 , location:  [1.4813336  4.09507555] , action:  [1.21429552]\n",
      "node name:  6 , location:  [1.26071932 4.83487696] , action:  [1.35049129]\n",
      "node name:  7 , location:  [1.00409985 5.50176157] , action:  [1.48668705]\n",
      "node name:  8 , location:  [0.71819883 6.01407045] , action:  [1.46756529]\n",
      "node name:  9 , location:  [0.4204104  6.23855638] , action:  [1.40322225]\n",
      "node name:  10 , location:  [0.11974206 6.1982873 ] , action:  [1.33887921]\n",
      "node name:  11 , location:  [-0.17519906  5.92197591] , action:  [1.27453618]\n",
      "node name:  12 , location:  [-0.45580585  5.43833488] , action:  [1.21019314]\n",
      "node name:  13 , location:  [-0.71347121  4.77607691] , action:  [1.1458501]\n",
      "node name:  14 , location:  [-0.93958802  3.9639147 ] , action:  [1.08150706]\n",
      "node name:  15 , location:  [-1.12554916  3.03056093] , action:  [1.01716402]\n",
      "node name:  16 , location:  [-1.26274753  2.00472829] , action:  [0.95282098]\n",
      "node name:  17 , location:  [-1.34257601  0.91512947] , action:  [0.88847794]\n",
      "node name:  18 , location:  [-1.36061896 -0.1821943 ] , action:  [0.47814324]\n",
      "node name:  19 , location:  [-1.3251061  -1.20091243] , action:  [-0.03292824]\n",
      "node name:  20 , location:  [-1.2417827  -2.11727793] , action:  [-0.54399972]\n",
      "...\n"
     ]
    },
    {
     "data": {
      "image/png": "[encoded data removed]",
      "text/plain": [
       "<matplotlib.figure.Figure at 0x7f98fdb42780>"
      ]
     },
     "metadata": {},
     "output_type": "display_data"
    }
   ],
   "source": [
    "# add_traj test\n",
    "tree.add_traj(x_traj_pts, u_traj_pts, 0)\n",
    "tree.print_tree()\n",
    "tree.plot_tree()"
   ]
  },
  {
   "cell_type": "code",
   "execution_count": 9,
   "metadata": {},
   "outputs": [
    {
     "name": "stdout",
     "output_type": "stream",
     "text": [
      "randomly generated sample:  [-0.80537796  2.10371549]\n"
     ]
    }
   ],
   "source": [
    "# getRandSample test\n",
    "x_sample=tree.getRandSample()\n",
    "print(\"randomly generated sample: \",x_sample)"
   ]
  },
  {
   "cell_type": "code",
   "execution_count": 10,
   "metadata": {},
   "outputs": [
    {
     "name": "stdout",
     "output_type": "stream",
     "text": [
      "approximate value for the random sample above:  24.591528654774457\n"
     ]
    }
   ],
   "source": [
    "# valueApprox test\n",
    "print(\"approximate value for the random sample above: \",\n",
    "      tree.valueApprox(x_sample))"
   ]
  },
  {
   "cell_type": "markdown",
   "metadata": {},
   "source": [
    "## ignore stuffs below"
   ]
  },
  {
   "cell_type": "code",
   "execution_count": null,
   "metadata": {},
   "outputs": [],
   "source": []
  },
  {
   "cell_type": "code",
   "execution_count": null,
   "metadata": {},
   "outputs": [],
   "source": []
  },
  {
   "cell_type": "code",
   "execution_count": 190,
   "metadata": {},
   "outputs": [
    {
     "ename": "TypeError",
     "evalue": "object of type 'int' has no len()",
     "output_type": "error",
     "traceback": [
      "\u001b[0;31m---------------------------------------------------------------------------\u001b[0m",
      "\u001b[0;31mTypeError\u001b[0m                                 Traceback (most recent call last)",
      "\u001b[0;32m<ipython-input-190-26470d273c07>\u001b[0m in \u001b[0;36m<module>\u001b[0;34m()\u001b[0m\n\u001b[1;32m      4\u001b[0m                                     \u001b[0;31m#second row data\u001b[0m\u001b[0;34m\u001b[0m\u001b[0;34m\u001b[0m\u001b[0;34m\u001b[0m\u001b[0m\n\u001b[1;32m      5\u001b[0m \u001b[0;31m# np.array((tree.G.nodes(data='epsH'))) # as an np array, same as above\u001b[0m\u001b[0;34m\u001b[0m\u001b[0;34m\u001b[0m\u001b[0;34m\u001b[0m\u001b[0m\n\u001b[0;32m----> 6\u001b[0;31m \u001b[0mnp\u001b[0m\u001b[0;34m.\u001b[0m\u001b[0marray\u001b[0m\u001b[0;34m(\u001b[0m\u001b[0;34m(\u001b[0m\u001b[0mtree\u001b[0m\u001b[0;34m.\u001b[0m\u001b[0mG\u001b[0m\u001b[0;34m.\u001b[0m\u001b[0mnodes\u001b[0m\u001b[0;34m(\u001b[0m\u001b[0mdata\u001b[0m\u001b[0;34m=\u001b[0m\u001b[0;34m'epsH'\u001b[0m\u001b[0;34m)\u001b[0m\u001b[0;34m)\u001b[0m\u001b[0;34m)\u001b[0m\u001b[0;34m[\u001b[0m\u001b[0;34m:\u001b[0m\u001b[0;34m,\u001b[0m\u001b[0;36m1\u001b[0m\u001b[0;34m]\u001b[0m\u001b[0;34m\u001b[0m\u001b[0;34m\u001b[0m\u001b[0m\n\u001b[0m",
      "\u001b[0;31mTypeError\u001b[0m: object of type 'int' has no len()"
     ]
    }
   ],
   "source": [
    "# ways to access data in different structures\n",
    "# maybe repeated conversion has an overhead but shouldn't be too much each time\n",
    "# list(tree.G.nodes(data='epsH')) # as a list, first col node name/index,\n",
    "                                    #second row data\n",
    "# np.array((tree.G.nodes(data='epsH'))) # as an np array, same as above\n",
    "np.array((tree.G.nodes(data='epsH')))[:,1]"
   ]
  },
  {
   "cell_type": "code",
   "execution_count": 198,
   "metadata": {},
   "outputs": [],
   "source": [
    "arr_epsH=np.array(tree.G.nodes(data='epsH'))[:,1]\n",
    "arr_X0=np.array(tree.G.nodes(data='X0'))[:,1]\n",
    "arr_Qval=np.array(tree.G.nodes(data='Qval'))[:,1]\n",
    "#         if np.random.randint(2)==1:\n",
    "#              goal_indices = np.where(arr_epsH>0.05)[0] #Question1:Idx or Idx+1??\n",
    "#              distances=[]\n",
    "#              distances=[np.sqrt(np.sum(np.square(arr_X0[indice]-x_sample))) \n",
    "#                         for indice in goal_indices]\n",
    "#              nearest=np.argsort(distances)\n",
    "#              goal_node=goal_indices(nearest(0))\n",
    "#         elif rl_step > 1:\n",
    "#              ok_neighbors = np.where(arr_Qval<self.valueApprox(x_sample))[0]\n",
    "#              ok_neighbors = np.where(arr_epsH[ok_neighbors]>0.05)[0]#repeated as below\n",
    "#              ok_ind = np.random.randint(len(ok_neighbors))\n",
    "#              goal_node=ok_neighbors(ok_ind)\n",
    "#         else\n",
    "#              #ok_neighbors = list(range(0,self.Idx)) #Question2:Idx or Idx+1??# what for\n",
    "#              ok_neighbors = np.where(arr_epsH>0.05)[0]\n",
    "#              ok_ind = np.random.randint(len(ok_neighbors))\n",
    "#              goal_node=ok_neighbors(ok_ind)\n"
   ]
  },
  {
   "cell_type": "code",
   "execution_count": 253,
   "metadata": {},
   "outputs": [
    {
     "data": {
      "text/plain": [
       "array([0])"
      ]
     },
     "execution_count": 253,
     "metadata": {},
     "output_type": "execute_result"
    }
   ],
   "source": [
    "ok_neighbors = np.where(arr_Qval<tree.valueApprox(x_sample))[0]\n",
    "ok_neighbors"
   ]
  },
  {
   "cell_type": "code",
   "execution_count": 256,
   "metadata": {},
   "outputs": [
    {
     "data": {
      "text/plain": [
       "array([1])"
      ]
     },
     "execution_count": 256,
     "metadata": {},
     "output_type": "execute_result"
    }
   ],
   "source": [
    "arr_epsH[ok_neighbors]"
   ]
  },
  {
   "cell_type": "code",
   "execution_count": 255,
   "metadata": {},
   "outputs": [
    {
     "ename": "TypeError",
     "evalue": "'numpy.ndarray' object is not callable",
     "output_type": "error",
     "traceback": [
      "\u001b[0;31m---------------------------------------------------------------------------\u001b[0m",
      "\u001b[0;31mTypeError\u001b[0m                                 Traceback (most recent call last)",
      "\u001b[0;32m<ipython-input-255-6723e56744af>\u001b[0m in \u001b[0;36m<module>\u001b[0;34m()\u001b[0m\n\u001b[0;32m----> 1\u001b[0;31m \u001b[0;34m[\u001b[0m\u001b[0marr_epsH\u001b[0m\u001b[0;34m(\u001b[0m\u001b[0midx\u001b[0m\u001b[0;34m)\u001b[0m \u001b[0;32mfor\u001b[0m \u001b[0midx\u001b[0m \u001b[0;32min\u001b[0m \u001b[0mok_neighbors\u001b[0m\u001b[0;34m]\u001b[0m\u001b[0;34m\u001b[0m\u001b[0;34m\u001b[0m\u001b[0m\n\u001b[0m",
      "\u001b[0;32m<ipython-input-255-6723e56744af>\u001b[0m in \u001b[0;36m<listcomp>\u001b[0;34m(.0)\u001b[0m\n\u001b[0;32m----> 1\u001b[0;31m \u001b[0;34m[\u001b[0m\u001b[0marr_epsH\u001b[0m\u001b[0;34m(\u001b[0m\u001b[0midx\u001b[0m\u001b[0;34m)\u001b[0m \u001b[0;32mfor\u001b[0m \u001b[0midx\u001b[0m \u001b[0;32min\u001b[0m \u001b[0mok_neighbors\u001b[0m\u001b[0;34m]\u001b[0m\u001b[0;34m\u001b[0m\u001b[0;34m\u001b[0m\u001b[0m\n\u001b[0m",
      "\u001b[0;31mTypeError\u001b[0m: 'numpy.ndarray' object is not callable"
     ]
    }
   ],
   "source": [
    "[arr_epsH(idx) for idx in ok_neighbors]"
   ]
  },
  {
   "cell_type": "code",
   "execution_count": 241,
   "metadata": {},
   "outputs": [
    {
     "data": {
      "text/plain": [
       "(array([0]),)"
      ]
     },
     "execution_count": 241,
     "metadata": {},
     "output_type": "execute_result"
    }
   ],
   "source": [
    "np.where(arr_Qval<tree.valueApprox(x_sample))# this might give no points"
   ]
  },
  {
   "cell_type": "code",
   "execution_count": 240,
   "metadata": {},
   "outputs": [
    {
     "data": {
      "text/plain": [
       "24.544207217309335"
      ]
     },
     "execution_count": 240,
     "metadata": {},
     "output_type": "execute_result"
    }
   ],
   "source": [
    "tree.valueApprox(x_sample)"
   ]
  },
  {
   "cell_type": "code",
   "execution_count": 169,
   "metadata": {},
   "outputs": [
    {
     "data": {
      "text/plain": [
       "array([-0.54648502,  2.40572601])"
      ]
     },
     "execution_count": 169,
     "metadata": {},
     "output_type": "execute_result"
    }
   ],
   "source": []
  },
  {
   "cell_type": "code",
   "execution_count": 166,
   "metadata": {},
   "outputs": [],
   "source": [
    "goal_indices=np.where(arr_epsH>0.05)[0]"
   ]
  },
  {
   "cell_type": "code",
   "execution_count": 182,
   "metadata": {},
   "outputs": [
    {
     "data": {
      "text/plain": [
       "array([43, 42, 44, 41, 16, 15, 40, 39, 45, 38, 37, 36, 46, 14, 17, 35, 47,\n",
       "        3, 13, 34,  4, 48,  2,  5, 59, 18, 58, 49,  1, 33,  6, 12, 57, 50,\n",
       "       56, 51, 55,  7, 54, 52,  0, 53, 11, 19, 32,  8, 10,  9, 31, 20, 30,\n",
       "       21, 29, 22, 28, 23, 27, 24, 26, 25])"
      ]
     },
     "execution_count": 182,
     "metadata": {},
     "output_type": "execute_result"
    }
   ],
   "source": [
    "distances=[np.sqrt(np.sum(np.square(arr_X0[indice]-x_sample))) \n",
    "                        for indice in goal_indices]\n",
    "nearest=np.argsort(distances)\n",
    "nearest"
   ]
  },
  {
   "cell_type": "code",
   "execution_count": 7,
   "metadata": {},
   "outputs": [
    {
     "name": "stdout",
     "output_type": "stream",
     "text": [
      "attributes for goal node, also node[0]:  {'K': array([4.17813692, 1.48084422]), 'S': array([17.91142018,  5.22267115]), 'A': array([[ 0.        ,  1.        ],\n",
      "       [ 8.16480093, -0.4       ]]), 'B': array([[0.],\n",
      "       [4.]]), 'epsH': 1, 'Vx': 0, 'Qval': 0, 'X0': array([2, 0]), 'T': 0, 'U0': array([0])}\n",
      "[Variable('u(0)', Continuous)]\n",
      "traj takes  3.0\n",
      "x\n",
      "[0. 0.]\n",
      "[2.0000000e+00 4.4408921e-16]\n",
      "-0.8668279022953375\n",
      "0.5333167048340649\n"
     ]
    },
    {
     "data": {
      "image/png": "[encoded data removed]",
      "text/plain": [
       "<matplotlib.figure.Figure at 0x7f93374b5cf8>"
      ]
     },
     "metadata": {},
     "output_type": "display_data"
    }
   ],
   "source": [
    "plant = PendulumPlant()\n",
    "goal_point=np.array([2,0])\n",
    "dt=.05\n",
    "state_bounds=np.array([[-1,0],\n",
    "                      [2,3]],dtype=np.float64)\n",
    "input_bounds=np.array([[-3,3]],dtype=np.float64)\n",
    "tree=LQRTree(2,1,goal_point,dt,plant,input_bounds,state_bounds)\n",
    "start_pt=np.array([[0],[0]],dtype=np.float64)\n",
    "# end_pt=np.array([[3],[0]],dtype=np.float64)\n",
    "connect,x_traj_pts,u_traj_pts=tree.treeConnect(start_pt, goal_point)"
   ]
  },
  {
   "cell_type": "code",
   "execution_count": 152,
   "metadata": {},
   "outputs": [
    {
     "data": {
      "text/plain": [
       "-3.0"
      ]
     },
     "execution_count": 152,
     "metadata": {},
     "output_type": "execute_result"
    }
   ],
   "source": [
    "tree.input_bounds[0,0]"
   ]
  },
  {
   "cell_type": "code",
   "execution_count": 103,
   "metadata": {},
   "outputs": [
    {
     "data": {
      "text/plain": [
       "(2, 60)"
      ]
     },
     "execution_count": 103,
     "metadata": {},
     "output_type": "execute_result"
    }
   ],
   "source": [
    "x_traj_pts.shapean be stored in three different places:"
   ]
  },
  {
   "cell_type": "code",
   "execution_count": 85,
   "metadata": {},
   "outputs": [],
   "source": [
    "# for i in range(x_traj_pts.shape[1]-1,-1,-1):\n",
    "#     print(i)"
   ]
  },
  {
   "cell_type": "code",
   "execution_count": 8,
   "metadata": {},
   "outputs": [
    {
     "name": "stdout",
     "output_type": "stream",
     "text": [
      "This tree now has 1 nodes\n",
      "node name:  0 , location:  [2 0] , action:  [0]\n"
     ]
    },
    {
     "data": {
      "image/png": "[encoded data removed]",
      "text/plain": [
       "<matplotlib.figure.Figure at 0x7f93374b5be0>"
      ]
     },
     "metadata": {},
     "output_type": "display_data"
    }
   ],
   "source": [
    "tree.print_tree()\n",
    "tree.plot_tree()"
   ]
  },
  {
   "cell_type": "code",
   "execution_count": 9,
   "metadata": {},
   "outputs": [
    {
     "name": "stdout",
     "output_type": "stream",
     "text": [
      "This tree now has 60 nodes\n",
      "node name:  0 , location:  [2 0] , action:  [0]\n",
      "node name:  1 , location:  [1.97840902 0.80537818] , action:  [0.66951247]\n",
      "node name:  2 , location:  [1.9144804  1.63750864] , action:  [0.80570823]\n",
      "node name:  3 , location:  [1.80948063 2.47645757] , action:  [0.941904]\n",
      "node name:  4 , location:  [1.6646762  3.30229114] , action:  [1.07809976]\n",
      "node name:  5 , location:  [1.4813336  4.09507555] , action:  [1.21429552]\n",
      "node name:  6 , location:  [1.26071932 4.83487696] , action:  [1.35049129]\n",
      "node name:  7 , location:  [1.00409985 5.50176157] , action:  [1.48668705]\n",
      "node name:  8 , location:  [0.71819883 6.01407045] , action:  [1.46756529]\n",
      "node name:  9 , location:  [0.4204104  6.23855638] , action:  [1.40322225]\n",
      "node name:  10 , location:  [0.11974206 6.1982873 ] , action:  [1.33887921]\n",
      "node name:  11 , location:  [-0.17519906  5.92197591] , action:  [1.27453618]\n",
      "node name:  12 , location:  [-0.45580585  5.43833488] , action:  [1.21019314]\n",
      "node name:  13 , location:  [-0.71347121  4.77607691] , action:  [1.1458501]\n",
      "node name:  14 , location:  [-0.93958802  3.9639147 ] , action:  [1.08150706]\n",
      "node name:  15 , location:  [-1.12554916  3.03056093] , action:  [1.01716402]\n",
      "node name:  16 , location:  [-1.26274753  2.00472829] , action:  [0.95282098]\n",
      "node name:  17 , location:  [-1.34257601  0.91512947] , action:  [0.88847794]\n",
      "node name:  18 , location:  [-1.36061896 -0.1821943 ] , action:  [0.47814324]\n",
      "node name:  19 , location:  [-1.3251061  -1.20091243] , action:  [-0.03292824]\n",
      "node name:  20 , location:  [-1.2417827  -2.11727793] , action:  [-0.54399972]\n",
      "...\n"
     ]
    },
    {
     "data": {
      "image/png": "[encoded data removed]",
      "text/plain": [
       "<matplotlib.figure.Figure at 0x7f93374f6160>"
      ]
     },
     "metadata": {},
     "output_type": "display_data"
    }
   ],
   "source": [
    "tree.add_traj(x_traj_pts, u_traj_pts, 0)\n",
    "tree.print_tree()\n",
    "tree.plot_tree()"
   ]
  },
  {
   "cell_type": "code",
   "execution_count": 65,
   "metadata": {},
   "outputs": [
    {
     "data": {
      "text/plain": [
       "array([3., 0.])"
      ]
     },
     "execution_count": 65,
     "metadata": {},
     "output_type": "execute_result"
    }
   ],
   "source": [
    "XG.nodes[1]['X0']"
   ]
  },
  {
   "cell_type": "code",
   "execution_count": 68,
   "metadata": {},
   "outputs": [
    {
     "data": {
      "text/plain": [
       "array([2, 0])"
      ]
     },
     "execution_count": 68,
     "metadata": {},
     "output_type": "execute_result"
    }
   ],
   "source": [
    "XG.nodes[0]['X0']"
   ]
  },
  {
   "cell_type": "code",
   "execution_count": 66,
   "metadata": {},
   "outputs": [
    {
     "data": {
      "text/plain": [
       "NodeDataView({0: array([2, 0]), 1: array([3., 0.]), 2: array([2.98905746, 0.51277485]), 3: array([2.95526451, 1.00767844]), 4: array([2.89717316, 1.49641852]), 5: array([2.81333543, 1.99070285]), 6: array([2.70230332, 2.5022392 ]), 7: array([2.56262884, 3.04273531]), 8: array([2.39286402, 3.62389897]), 9: array([2.19156085, 4.25743791]), 10: array([1.95727135, 4.95505991]), 11: array([1.68854754, 5.72847273]), 12: array([1.38323418, 6.43733715]), 13: array([1.04748992, 6.93239969]), 14: array([0.69233758, 7.21199673]), 15: array([0.32879998, 7.27446464]), 16: array([-0.03210006,  7.11813979]), 17: array([-0.37933972,  6.74135855]), 18: array([-0.70189619,  6.14245729]), 19: array([-0.98874664,  5.31977239]), 20: array([-1.22886825,  4.27164021]), 21: array([-1.41123821,  2.99639712]), 22: array([-1.52766748,  1.69053627]), 23: array([-1.58321356,  0.56026236]), 24: array([-1.58567528, -0.43249152]), 25: array([-1.53902693, -1.3800242 ]), 26: array([-1.44713877, -2.26663097]), 27: array([-1.31391861, -3.07297338]), 28: array([-1.14327428, -3.779713  ]), 29: array([-0.93980145, -4.35948226]), 30: array([-0.71452413, -4.73784542]), 31: array([-0.47679598, -4.90973344]), 32: array([-0.23498197, -4.88611269]), 33: array([ 2.55292454e-03, -4.67794951e+00]), 34: array([ 0.22744372, -4.29621024]), 35: array([ 0.43132543, -3.75186123]), 36: array([ 0.60583308, -3.05586883]), 37: array([ 0.7426017 , -2.21919937]), 38: array([ 0.8332663 , -1.25281922]), 39: array([ 0.87043413, -0.24024091]), 40: array([0.86231019, 0.55629257]), 41: array([0.81581902, 1.28938188]), 42: array([0.73586205, 1.88169597]), 43: array([0.62984414, 2.33656191]), 44: array([0.50472134, 2.63801489]), 45: array([0.36949703, 2.74016134]), 46: array([0.23328984, 2.69039011]), 47: array([0.10281142, 2.50809841]), 48: array([-0.01546889,  2.19795644]), 49: array([-0.11509714,  1.76685345]), 50: array([-0.19108779,  1.26599725]), 51: array([-0.24120767,  0.73784769]), 52: array([-0.26534318,  0.234538  ]), 53: array([-0.26558476, -0.2137568 ]), 54: array([-0.24542606, -0.57555013]), 55: array([-0.20982026, -0.82993722]), 56: array([-0.1644899 , -0.96094424]), 57: array([-0.11583438, -0.96656525]), 58: array([-0.06975987, -0.85490582]), 59: array([-0.03249809, -0.62273517]), 60: array([-0.00848854, -0.331198  ])}, data='X0')"
      ]
     },
     "execution_count": 66,
     "metadata": {},
     "output_type": "execute_result"
    }
   ],
   "source": [
    "XG.nodes(data='X0')"
   ]
  },
  {
   "cell_type": "code",
   "execution_count": 67,
   "metadata": {},
   "outputs": [
    {
     "data": {
      "image/png": "[encoded data removed]",
      "text/plain": [
       "<matplotlib.figure.Figure at 0x7fa4eb7e6c50>"
      ]
     },
     "metadata": {},
     "output_type": "display_data"
    }
   ],
   "source": [
    "XG=tree.G\n",
    "nx.draw(XG, pos=dict(XG.nodes(data='X0')), \n",
    "                with_labels=True, node_color='r', edge_color='b')"
   ]
  },
  {
   "cell_type": "code",
   "execution_count": null,
   "metadata": {},
   "outputs": [],
   "source": []
  },
  {
   "cell_type": "code",
   "execution_count": 62,
   "metadata": {},
   "outputs": [
    {
     "data": {
      "text/plain": [
       "{0: {},\n",
       " 1: {0: {'weight': 100.0}},\n",
       " 2: {1: {'weight': 0.0}},\n",
       " 3: {2: {'weight': 0.0}},\n",
       " 4: {3: {'weight': 0.0}},\n",
       " 5: {4: {'weight': 0.0}},\n",
       " 6: {5: {'weight': 0.0}},\n",
       " 7: {6: {'weight': 0.0}},\n",
       " 8: {7: {'weight': 0.0}},\n",
       " 9: {8: {'weight': 0.0}},\n",
       " 10: {9: {'weight': 0.0}},\n",
       " 11: {10: {'weight': 0.0}},\n",
       " 12: {11: {'weight': 0.0}},\n",
       " 13: {12: {'weight': 0.0}},\n",
       " 14: {13: {'weight': 0.0}},\n",
       " 15: {14: {'weight': 0.0}},\n",
       " 16: {15: {'weight': 0.0}},\n",
       " 17: {16: {'weight': 0.0}},\n",
       " 18: {17: {'weight': 0.0}},\n",
       " 19: {18: {'weight': 0.0}},\n",
       " 20: {19: {'weight': 0.0}},\n",
       " 21: {20: {'weight': 0.0}},\n",
       " 22: {21: {'weight': 0.0}},\n",
       " 23: {22: {'weight': 0.0}},\n",
       " 24: {23: {'weight': 0.0}},\n",
       " 25: {24: {'weight': 0.0}},\n",
       " 26: {25: {'weight': 0.0}},\n",
       " 27: {26: {'weight': 0.0}},\n",
       " 28: {27: {'weight': 0.0}},\n",
       " 29: {28: {'weight': 0.0}},\n",
       " 30: {29: {'weight': 0.0}},\n",
       " 31: {30: {'weight': 0.0}},\n",
       " 32: {31: {'weight': 0.0}},\n",
       " 33: {32: {'weight': 0.0}},\n",
       " 34: {33: {'weight': 0.0}},\n",
       " 35: {34: {'weight': 0.0}},\n",
       " 36: {35: {'weight': 0.0}},\n",
       " 37: {36: {'weight': 0.0}},\n",
       " 38: {37: {'weight': 0.0}},\n",
       " 39: {38: {'weight': 0.0}},\n",
       " 40: {39: {'weight': 0.0}},\n",
       " 41: {40: {'weight': 0.0}},\n",
       " 42: {41: {'weight': 0.0}},\n",
       " 43: {42: {'weight': 0.0}},\n",
       " 44: {43: {'weight': 0.0}},\n",
       " 45: {44: {'weight': 0.0}},\n",
       " 46: {45: {'weight': 0.0}},\n",
       " 47: {46: {'weight': 0.0}},\n",
       " 48: {47: {'weight': 0.0}},\n",
       " 49: {48: {'weight': 0.0}},\n",
       " 50: {49: {'weight': 0.0}},\n",
       " 51: {50: {'weight': 0.0}},\n",
       " 52: {51: {'weight': 0.0}},\n",
       " 53: {52: {'weight': 0.0}},\n",
       " 54: {53: {'weight': 0.0}},\n",
       " 55: {54: {'weight': 0.0}},\n",
       " 56: {55: {'weight': 0.0}},\n",
       " 57: {56: {'weight': 0.0}},\n",
       " 58: {57: {'weight': 0.0}},\n",
       " 59: {58: {'weight': 0.0}},\n",
       " 60: {59: {'weight': 0.0}}}"
      ]
     },
     "execution_count": 62,
     "metadata": {},
     "output_type": "execute_result"
    }
   ],
   "source": [
    "nx.to_dict_of_dicts(tree.G)"
   ]
  },
  {
   "cell_type": "code",
   "execution_count": 23,
   "metadata": {},
   "outputs": [
    {
     "ename": "KeyError",
     "evalue": "'X0'",
     "output_type": "error",
     "traceback": [
      "\u001b[0;31m---------------------------------------------------------------------------\u001b[0m",
      "\u001b[0;31mKeyError\u001b[0m                                  Traceback (most recent call last)",
      "\u001b[0;32m<ipython-input-23-82eeaccc6090>\u001b[0m in \u001b[0;36m<module>\u001b[0;34m()\u001b[0m\n\u001b[0;32m----> 1\u001b[0;31m \u001b[0mtree\u001b[0m\u001b[0;34m.\u001b[0m\u001b[0mG\u001b[0m\u001b[0;34m[\u001b[0m\u001b[0;36m0\u001b[0m\u001b[0;34m]\u001b[0m\u001b[0;34m[\u001b[0m\u001b[0;34m'X0'\u001b[0m\u001b[0;34m]\u001b[0m\u001b[0;34m\u001b[0m\u001b[0;34m\u001b[0m\u001b[0m\n\u001b[0m",
      "\u001b[0;32m/usr/local/lib/python3.6/dist-packages/networkx/classes/coreviews.py\u001b[0m in \u001b[0;36m__getitem__\u001b[0;34m(self, key)\u001b[0m\n\u001b[1;32m     52\u001b[0m \u001b[0;34m\u001b[0m\u001b[0m\n\u001b[1;32m     53\u001b[0m     \u001b[0;32mdef\u001b[0m \u001b[0m__getitem__\u001b[0m\u001b[0;34m(\u001b[0m\u001b[0mself\u001b[0m\u001b[0;34m,\u001b[0m \u001b[0mkey\u001b[0m\u001b[0;34m)\u001b[0m\u001b[0;34m:\u001b[0m\u001b[0;34m\u001b[0m\u001b[0;34m\u001b[0m\u001b[0m\n\u001b[0;32m---> 54\u001b[0;31m         \u001b[0;32mreturn\u001b[0m \u001b[0mself\u001b[0m\u001b[0;34m.\u001b[0m\u001b[0m_atlas\u001b[0m\u001b[0;34m[\u001b[0m\u001b[0mkey\u001b[0m\u001b[0;34m]\u001b[0m\u001b[0;34m\u001b[0m\u001b[0;34m\u001b[0m\u001b[0m\n\u001b[0m\u001b[1;32m     55\u001b[0m \u001b[0;34m\u001b[0m\u001b[0m\n\u001b[1;32m     56\u001b[0m     \u001b[0;32mdef\u001b[0m \u001b[0mcopy\u001b[0m\u001b[0;34m(\u001b[0m\u001b[0mself\u001b[0m\u001b[0;34m)\u001b[0m\u001b[0;34m:\u001b[0m\u001b[0;34m\u001b[0m\u001b[0;34m\u001b[0m\u001b[0m\n",
      "\u001b[0;31mKeyError\u001b[0m: 'X0'"
     ]
    }
   ],
   "source": [
    "tree.G[0]['X0']"
   ]
  },
  {
   "cell_type": "code",
   "execution_count": 4,
   "metadata": {},
   "outputs": [
    {
     "ename": "NameError",
     "evalue": "name 'tree' is not defined",
     "output_type": "error",
     "traceback": [
      "\u001b[0;31m---------------------------------------------------------------------------\u001b[0m",
      "\u001b[0;31mNameError\u001b[0m                                 Traceback (most recent call last)",
      "\u001b[0;32m<ipython-input-4-28f094bec84e>\u001b[0m in \u001b[0;36m<module>\u001b[0;34m()\u001b[0m\n\u001b[0;32m----> 1\u001b[0;31m \u001b[0mtree\u001b[0m\u001b[0;34m.\u001b[0m\u001b[0mplant\u001b[0m\u001b[0;34m\u001b[0m\u001b[0;34m\u001b[0m\u001b[0m\n\u001b[0m\u001b[1;32m      2\u001b[0m \u001b[0mx_sample\u001b[0m\u001b[0;34m=\u001b[0m\u001b[0mnp\u001b[0m\u001b[0;34m.\u001b[0m\u001b[0marray\u001b[0m\u001b[0;34m(\u001b[0m\u001b[0;34m[\u001b[0m\u001b[0;34m[\u001b[0m\u001b[0;36m2\u001b[0m\u001b[0;34m,\u001b[0m\u001b[0;36m1\u001b[0m\u001b[0;34m]\u001b[0m\u001b[0;34m]\u001b[0m\u001b[0;34m)\u001b[0m\u001b[0;34m\u001b[0m\u001b[0;34m\u001b[0m\u001b[0m\n\u001b[1;32m      3\u001b[0m \u001b[0mx_sample\u001b[0m\u001b[0;34m\u001b[0m\u001b[0;34m\u001b[0m\u001b[0m\n",
      "\u001b[0;31mNameError\u001b[0m: name 'tree' is not defined"
     ]
    }
   ],
   "source": [
    "tree.plant\n",
    "x_sample=np.array([[2,1]])\n",
    "x_sample"
   ]
  },
  {
   "cell_type": "code",
   "execution_count": 87,
   "metadata": {},
   "outputs": [
    {
     "name": "stdout",
     "output_type": "stream",
     "text": [
      "10\n",
      "9\n",
      "8\n",
      "7\n",
      "6\n",
      "5\n",
      "4\n",
      "3\n",
      "2\n",
      "1\n"
     ]
    }
   ],
   "source": [
    "for i in range(10,0,-1):\n",
    "    print(i)"
   ]
  },
  {
   "cell_type": "code",
   "execution_count": 10,
   "metadata": {},
   "outputs": [
    {
     "data": {
      "text/plain": [
       "array([0.7, 0.9, 1.1, 1.3, 1.5, 1.7, 1.9, 2.1, 2.3, 2.5, 2.7, 2.9, 3.1])"
      ]
     },
     "execution_count": 10,
     "metadata": {},
     "output_type": "execute_result"
    }
   ],
   "source": [
    "# Start = 5, Stop = 30, Step Size = 2\n",
    "# arr = np.arange(5, 30, 2)\n",
    "# np.arange(.5, 3.1, .2)\n",
    "#generate a time series with fixed interval excluding the remainder portion at beginning\n",
    "np.flip(-np.arange(-3.1, -.5, .2))"
   ]
  },
  {
   "cell_type": "code",
   "execution_count": 11,
   "metadata": {},
   "outputs": [
    {
     "data": {
      "text/plain": [
       "array([0.7, 0.9, 1.1, 1.3, 1.5, 1.7, 1.9, 2.1, 2.3, 2.5, 2.7, 2.9, 3.1])"
      ]
     },
     "execution_count": 11,
     "metadata": {},
     "output_type": "execute_result"
    }
   ],
   "source": [
    "np.flip(np.arange(3.1, .5, -.2))"
   ]
  },
  {
   "cell_type": "code",
   "execution_count": 13,
   "metadata": {},
   "outputs": [
    {
     "ename": "NameError",
     "evalue": "name 'x_sample' is not defined",
     "output_type": "error",
     "traceback": [
      "\u001b[0;31m---------------------------------------------------------------------------\u001b[0m",
      "\u001b[0;31mNameError\u001b[0m                                 Traceback (most recent call last)",
      "\u001b[0;32m<ipython-input-13-35ee0e04f4fb>\u001b[0m in \u001b[0;36m<module>\u001b[0;34m()\u001b[0m\n\u001b[0;32m----> 1\u001b[0;31m \u001b[0mx_sample\u001b[0m\u001b[0;34m[\u001b[0m\u001b[0;34m-\u001b[0m\u001b[0;36m1\u001b[0m\u001b[0;34m]\u001b[0m\u001b[0;34m\u001b[0m\u001b[0;34m\u001b[0m\u001b[0m\n\u001b[0m",
      "\u001b[0;31mNameError\u001b[0m: name 'x_sample' is not defined"
     ]
    }
   ],
   "source": [
    "x_sample[-1]"
   ]
  },
  {
   "cell_type": "code",
   "execution_count": 42,
   "metadata": {},
   "outputs": [
    {
     "data": {
      "text/plain": [
       "(1, 2)"
      ]
     },
     "execution_count": 42,
     "metadata": {},
     "output_type": "execute_result"
    }
   ],
   "source": [
    "np.array([[1,1]],dtype=np.double).shape"
   ]
  },
  {
   "cell_type": "code",
   "execution_count": 45,
   "metadata": {},
   "outputs": [
    {
     "data": {
      "text/plain": [
       "(2, 1)"
      ]
     },
     "execution_count": 45,
     "metadata": {},
     "output_type": "execute_result"
    }
   ],
   "source": [
    "np.array([[1],[1]],dtype=np.float64).shape"
   ]
  },
  {
   "cell_type": "code",
   "execution_count": 12,
   "metadata": {},
   "outputs": [
    {
     "name": "stdout",
     "output_type": "stream",
     "text": [
      "attributes for goal node, also node[0]:  {'K': array([4.17813692, 1.48084422]), 'S': array([17.91142018,  5.22267115]), 'A': array([[ 0.        ,  1.        ],\n",
      "       [ 8.16480093, -0.4       ]]), 'B': array([[0.],\n",
      "       [4.]]), 'epsH': 1, 'Vx': 0, 'Qval': 0, 'X0': array([2, 0]), 'T': 0, 'U0': 0}\n",
      "[Variable('u(0)', Continuous)]\n",
      "x\n",
      "[0. 0.]\n",
      "[3. 0.]\n",
      "-1.7322917118136798\n",
      "-1.935871735248757\n"
     ]
    },
    {
     "data": {
      "image/png": "[encoded data removed]",
      "text/plain": [
       "<matplotlib.figure.Figure at 0x7fa4e2916a90>"
      ]
     },
     "metadata": {},
     "output_type": "display_data"
    }
   ],
   "source": [
    "tree=LQRTree(2,1,goal_point,dt,plant,bounds,bounds)\n",
    "start_pt=np.array([[0],[0]],dtype=np.float64)\n",
    "end_pt=np.array([[3],[0]],dtype=np.float64)\n",
    "connect,x_traj_pts,u_traj_pts=tree.treeConnect(start_pt, end_pt)"
   ]
  },
  {
   "cell_type": "code",
   "execution_count": 70,
   "metadata": {},
   "outputs": [
    {
     "data": {
      "text/plain": [
       "[<matplotlib.lines.Line2D at 0x7f7245fc0e80>]"
      ]
     },
     "execution_count": 70,
     "metadata": {},
     "output_type": "execute_result"
    },
    {
     "data": {
      "image/png": "[encoded data removed]",
      "text/plain": [
       "<matplotlib.figure.Figure at 0x7f7245fabcc0>"
      ]
     },
     "metadata": {},
     "output_type": "display_data"
    }
   ],
   "source": [
    "plt.figure() \n",
    "plt.plot(x_traj_pts[0, :], x_traj_pts[1, :]) "
   ]
  },
  {
   "cell_type": "code",
   "execution_count": 62,
   "metadata": {},
   "outputs": [],
   "source": [
    "# plt.plot(u_traj_pts)"
   ]
  },
  {
   "cell_type": "code",
   "execution_count": 85,
   "metadata": {},
   "outputs": [
    {
     "data": {
      "text/plain": [
       "81"
      ]
     },
     "execution_count": 85,
     "metadata": {},
     "output_type": "execute_result"
    }
   ],
   "source": [
    "x_traj_pts.shape[1]"
   ]
  },
  {
   "cell_type": "code",
   "execution_count": 56,
   "metadata": {},
   "outputs": [
    {
     "data": {
      "text/plain": [
       "(1, 81)"
      ]
     },
     "execution_count": 56,
     "metadata": {},
     "output_type": "execute_result"
    }
   ],
   "source": [
    "u_traj_pts.shape"
   ]
  },
  {
   "cell_type": "code",
   "execution_count": 65,
   "metadata": {},
   "outputs": [
    {
     "data": {
      "text/plain": [
       "array([[0., 0., 0., 0., 0., 0., 0., 0., 0., 0., 0., 0., 0., 0., 0., 0.,\n",
       "        0., 0., 0., 0., 0., 0., 0., 0., 0., 0., 0., 0., 0., 0., 0., 0.,\n",
       "        0., 0., 0., 0., 0., 0., 0., 0., 0., 0., 0., 0., 0., 0., 0., 0.,\n",
       "        0., 0., 0., 0., 0., 0., 0., 0., 0., 0., 0., 0., 0., 0., 0., 0.,\n",
       "        0., 0., 0., 0., 0., 0., 0., 0., 0., 0., 0., 0., 0., 0., 0., 0.,\n",
       "        0.]])"
      ]
     },
     "execution_count": 65,
     "metadata": {},
     "output_type": "execute_result"
    }
   ],
   "source": [
    "u_traj_pts"
   ]
  },
  {
   "cell_type": "code",
   "execution_count": 12,
   "metadata": {},
   "outputs": [],
   "source": [
    "context=tree.plant.CreateDefaultContext()\n",
    "context.SetContinuousState(x_sample)#what's set discrete state\n",
    "tree.plant.get_input_port(0).FixValue(context, 0)#if input port not set, it doesn't seem the taylor approx can run, the number of ports vary plants by plants\n",
    "        \n",
    "affine_sys=FirstOrderTaylorApproximation(tree.plant,context)\n",
    "        \n",
    "(K,S_rand)= LinearQuadraticRegulator(affine_sys.A(), affine_sys.B(), tree.Q, tree.R)\n",
    "# lqrdist=lambda x1,x2: np.matmul(np.matmul((x2-x1),S_rand),(x2-x1).T)#might need reshape"
   ]
  },
  {
   "cell_type": "code",
   "execution_count": 13,
   "metadata": {},
   "outputs": [
    {
     "data": {
      "text/plain": [
       "array([[17.91142018,  5.22267115],\n",
       "       [ 5.22267115,  1.85105528]])"
      ]
     },
     "execution_count": 13,
     "metadata": {},
     "output_type": "execute_result"
    }
   ],
   "source": [
    "S_rand"
   ]
  },
  {
   "cell_type": "code",
   "execution_count": 68,
   "metadata": {},
   "outputs": [
    {
     "data": {
      "text/plain": [
       "0.0839816940468827"
      ]
     },
     "execution_count": 68,
     "metadata": {},
     "output_type": "execute_result"
    }
   ],
   "source": [
    "x1=np.array([1,2])\n",
    "x2=np.array([1,2.2])\n",
    "np.matmul(np.matmul((x2-x1),S_rand),(x2-x1).T)"
   ]
  },
  {
   "cell_type": "code",
   "execution_count": 65,
   "metadata": {},
   "outputs": [
    {
     "data": {
      "text/plain": [
       "array([32.03156301,  9.59182658])"
      ]
     },
     "execution_count": 65,
     "metadata": {},
     "output_type": "execute_result"
    }
   ],
   "source": [
    "np.matmul(x1,S_rand)"
   ]
  },
  {
   "cell_type": "code",
   "execution_count": 69,
   "metadata": {},
   "outputs": [
    {
     "data": {
      "text/plain": [
       "array([32.03156301,  9.59182658])"
      ]
     },
     "execution_count": 69,
     "metadata": {},
     "output_type": "execute_result"
    }
   ],
   "source": [
    "np.matmul(S_rand,x1)"
   ]
  },
  {
   "cell_type": "code",
   "execution_count": 85,
   "metadata": {},
   "outputs": [
    {
     "name": "stdout",
     "output_type": "stream",
     "text": [
      "[0.98655334 0.27764843 0.49612294 0.65058687 0.45095504 0.89131656\n",
      " 0.47171691 0.51001779 0.11851979 0.02866186 0.2947414  0.02042693\n",
      " 0.04805462 0.71181572 0.45322501 0.81868089 0.02094981 0.48239075\n",
      " 0.06280244 0.40120439]\n",
      "(6,)\n"
     ]
    }
   ],
   "source": [
    "a = np.random.rand(20)\n",
    "b=np.where(a>0.5)[0]\n",
    "print(a)\n",
    "print(b.shape)"
   ]
  },
  {
   "cell_type": "code",
   "execution_count": 106,
   "metadata": {},
   "outputs": [
    {
     "name": "stdout",
     "output_type": "stream",
     "text": [
      "[0. 0.]\n"
     ]
    }
   ],
   "source": [
    "print(np.zeros(2))"
   ]
  },
  {
   "cell_type": "code",
   "execution_count": 80,
   "metadata": {},
   "outputs": [
    {
     "data": {
      "text/plain": [
       "(array([ 6,  8, 10, 12, 16, 19]),)"
      ]
     },
     "execution_count": 80,
     "metadata": {},
     "output_type": "execute_result"
    }
   ],
   "source": []
  },
  {
   "cell_type": "code",
   "execution_count": 100,
   "metadata": {},
   "outputs": [
    {
     "name": "stdout",
     "output_type": "stream",
     "text": [
      "[0, 1, 2, 3, 4, 5, 6, 7, 8, 9]\n"
     ]
    }
   ],
   "source": [
    "print(list(range(0,10)))"
   ]
  },
  {
   "cell_type": "code",
   "execution_count": 116,
   "metadata": {},
   "outputs": [
    {
     "name": "stdout",
     "output_type": "stream",
     "text": [
      "[0.52 0.47 0.42 0.37 0.32 0.27 0.22 0.17 0.12]\n",
      "[0.12 0.17 0.22 0.27 0.32 0.37 0.42 0.47 0.52]\n"
     ]
    }
   ],
   "source": [
    "import numpy\n",
    "\n",
    "a = numpy.arange(0.52,0.1,-0.05)\n",
    "print(a)\n",
    "b = a[::-1]\n",
    "print(b)"
   ]
  },
  {
   "cell_type": "code",
   "execution_count": 2,
   "metadata": {},
   "outputs": [
    {
     "name": "stdout",
     "output_type": "stream",
     "text": [
      "7.047396137390664\n"
     ]
    }
   ],
   "source": [
    "import random\n",
    "a=random.uniform(3,8)\n",
    "print(a)"
   ]
  },
  {
   "cell_type": "code",
   "execution_count": 120,
   "metadata": {},
   "outputs": [
    {
     "data": {
      "text/plain": [
       "16.0"
      ]
     },
     "execution_count": 120,
     "metadata": {},
     "output_type": "execute_result"
    }
   ],
   "source": [
    "math.pow(4,2)"
   ]
  },
  {
   "cell_type": "code",
   "execution_count": null,
   "metadata": {},
   "outputs": [],
   "source": []
  }
 ],
 "metadata": {
  "kernelspec": {
   "display_name": "Python 3",
   "language": "python",
   "name": "python3"
  },
  "language_info": {
   "codemirror_mode": {
    "name": "ipython",
    "version": 3
   },
   "file_extension": ".py",
   "mimetype": "text/x-python",
   "name": "python",
   "nbconvert_exporter": "python",
   "pygments_lexer": "ipython3",
   "version": "3.6.9"
  }
 },
 "nbformat": 4,
 "nbformat_minor": 4
}
