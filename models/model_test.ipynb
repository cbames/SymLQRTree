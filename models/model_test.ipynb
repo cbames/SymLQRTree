{
 "cells": [
  {
   "cell_type": "code",
   "execution_count": 195,
   "metadata": {},
   "outputs": [],
   "source": [
    "import math\n",
    "import numpy as np\n",
    "import matplotlib.pyplot as plt\n",
    "from pydrake.solvers.mathematicalprogram import  Solve, SolverType, SolverId, SolverOptions, SolverInterface\n",
    "from pydrake.systems.framework import InputPortSelection, OutputPortSelection, Context\n",
    " \n",
    "from pydrake.examples.pendulum import (PendulumPlant, PendulumState)\n",
    "from pydrake.all import (DirectCollocation, DirectTranscription, PiecewisePolynomial,\n",
    "                                                 SolutionResult, TimeStep)\n",
    "from pydrake.systems.primitives import FirstOrderTaylorApproximation\n",
    "from pydrake.systems.controllers import LinearQuadraticRegulator"
   ]
  },
  {
   "cell_type": "code",
   "execution_count": 22,
   "metadata": {},
   "outputs": [
    {
     "name": "stdout",
     "output_type": "stream",
     "text": [
      "taylor: <pydrake.systems.primitives.AffineSystem_[float] object at 0x7f4af84bb670>\n",
      "taylor.A: [[ 0.          1.        ]\n",
      " [19.61997512 -0.4       ]]\n",
      "taylor.B: [[0.]\n",
      " [4.]]\n",
      "context: ::_ Context\n",
      "------------\n",
      "Time: 0\n",
      "States:\n",
      "  2 continuous states\n",
      "    [3.14, 0]\n",
      "\n",
      "Parameters:\n",
      "  1 numeric parameter groups with\n",
      "     4 parameters\n",
      "       [1, 0.5, 0.1, 9.81]\n",
      "\n",
      "K: [[9.9108867  2.34242571]]\n",
      "S: [[25.43404192  4.95544335]\n",
      " [ 4.95544335  1.17121286]]\n",
      "sssssss\n",
      "[Variable('x(38)', Continuous) Variable('x(39)', Continuous)]\n",
      "[1.57079633 0.        ]\n",
      "<pydrake.solvers.mathematicalprogram.MathematicalProgramResult object at 0x7f4b491eed30>\n",
      "SNOPT/fortran\n",
      "True\n",
      "SolutionResult.kSolutionFound\n",
      "<pydrake.trajectories.PiecewisePolynomial object at 0x7f4af84e4930>\n",
      "0.0\n",
      "4.424855352599014\n",
      "<pydrake.trajectories.PiecewisePolynomial object at 0x7f4b491eed70>\n",
      "0.0\n",
      "4.424855352599014\n",
      "(1, 100)\n",
      "x\n",
      "[0. 0.]\n",
      "[1.57079633 0.        ]\n",
      "u\n",
      "-0.6298948197909633\n",
      "0.40981877104084274\n"
     ]
    },
    {
     "data": {
      "image/png": "[encoded data removed]",
      "text/plain": [
       "<matplotlib.figure.Figure at 0x7f4af84d86d8>"
      ]
     },
     "metadata": {},
     "output_type": "display_data"
    },
    {
     "name": "stdout",
     "output_type": "stream",
     "text": [
      "done\n"
     ]
    }
   ],
   "source": [
    "#from visualizer import PendulumVisualizer\n",
    "Q = np.eye(2)*2\n",
    "R = np.eye(1)*2\n",
    "plant = PendulumPlant()\n",
    "context = plant.CreateDefaultContext()\n",
    "context.SetContinuousState(np.array([3.14, 0]))\n",
    "\n",
    "\n",
    "# \n",
    "# plant.get_input_port(0).FixValue(context, 0)\n",
    "#alternative way for fixing context\n",
    "context.FixInputPort(index=0, data=[0.])\n",
    "\n",
    "affine_sys = FirstOrderTaylorApproximation(plant, context)\n",
    "K,S = LinearQuadraticRegulator(affine_sys.A(), affine_sys.B(),Q, R)\n",
    "\n",
    "print ('taylor:', affine_sys)\n",
    "print ('taylor.A:', affine_sys.A())\n",
    "print ('taylor.B:', affine_sys.B())\n",
    "print ('context:', context)\n",
    "print ('K:', K)\n",
    "print ('S:', S)\n",
    "# print ('S hsape', S.shape)\n",
    "\n",
    "print(\"sssssss\")\n",
    " \n",
    "# dircol = DirectTranscription(plant, context, num_time_samples=50,\n",
    "                        #     fixed_timestep=TimeStep(0.25))\n",
    "dircol = DirectCollocation(plant, context, num_time_samples=20,\n",
    "                            minimum_timestep=0.08, maximum_timestep=0.5)\n",
    " \n",
    "#dircol.AddEqualTimeIntervalsConstraints()\n",
    " \n",
    "torque_limit = 3.0  # N*m.\n",
    "u = dircol.input()\n",
    "dircol.AddConstraintToAllKnotPoints(-torque_limit <= u[0])\n",
    "dircol.AddConstraintToAllKnotPoints(u[0] <= torque_limit)\n",
    " \n",
    "initial_state = PendulumState()\n",
    "initial_state.set_theta(0.0)\n",
    "initial_state.set_thetadot(0.0)\n",
    "dircol.AddBoundingBoxConstraint(initial_state.get_value(),\n",
    "                            initial_state.get_value(),\n",
    "                            dircol.initial_state())\n",
    "# More elegant version is blocked on drake #8315:\n",
    "# dircol.AddLinearConstraint(dircol.initial_state()\n",
    "#                               == initial_state.get_value())\n",
    " \n",
    "final_state = PendulumState()\n",
    "final_state.set_theta(math.pi/2)\n",
    "final_state.set_thetadot(0)\n",
    "\n",
    "print(dircol.final_state())\n",
    "dircol.AddBoundingBoxConstraint(final_state.get_value(),\n",
    "                                final_state.get_value(),\n",
    "                                dircol.final_state())\n",
    "\n",
    "print(final_state.get_value())\n",
    "# dircol.AddLinearConstraint(dircol.final_state() == final_state.get_value())\n",
    " \n",
    "R = 10  # Cost on input \"effort\".\n",
    "dircol.AddRunningCost(R*u[0]**2)\n",
    " \n",
    "initial_x_trajectory = \\\n",
    "        PiecewisePolynomial.FirstOrderHold([0., 4.],\n",
    "                                 [initial_state.get_value(),\n",
    "                                 final_state.get_value()])\n",
    "dircol.SetInitialTrajectory(PiecewisePolynomial(), \n",
    "                            initial_x_trajectory) \n",
    "# result = dircol.Solve()\n",
    "result = Solve(dircol) \n",
    "print(result)\n",
    "print(result.get_solver_id().name())\n",
    "print(result.is_success())\n",
    "print(result.get_solution_result())\n",
    "assert(result.get_solution_result() == SolutionResult.kSolutionFound) \n",
    "# assert(result == SolutionResult.kSolutionFound) \n",
    "x_trajectory = dircol.ReconstructStateTrajectory(result) \n",
    "print(x_trajectory)\n",
    "print(x_trajectory.start_time())\n",
    "print(x_trajectory.end_time())\n",
    "\n",
    "#construct u trajectory\n",
    "u_trajectory = dircol.ReconstructInputTrajectory(result) \n",
    "print(u_trajectory)\n",
    "print(u_trajectory.start_time())\n",
    "print(u_trajectory.end_time())\n",
    "\n",
    "#vis = PendulumVisualizer() \n",
    "#ani = vis.animate(x_trajectory, repeat=True) \n",
    "time_series=np.linspace(x_trajectory.start_time(),                                          \n",
    "                      x_trajectory.end_time(), 100)\n",
    "x_knots = np.hstack([x_trajectory.value(t) for t in                                          \n",
    "                      time_series])\n",
    "# x_knots = np.hstack([x_trajectory.value(t) for t in                                          \n",
    "#                       np.linspace(x_trajectory.start_time(),                                          \n",
    "#                       x_trajectory.end_time(), 100)]) \n",
    "\n",
    "cmds = np.hstack([u_trajectory.value(t) for t in                                          \n",
    "                      np.linspace(u_trajectory.start_time(),                                          \n",
    "                      u_trajectory.end_time(), 100)]) \n",
    "print(cmds.shape)\n",
    "plt.figure() \n",
    "plt.plot(x_knots[0, :], x_knots[1, :]) \n",
    "print(\"x\")\n",
    "print(x_knots[:,0])\n",
    "print(x_knots[:,-1])\n",
    "print(\"u\")\n",
    "print(cmds[0,0])\n",
    "print(cmds[0,-1])\n",
    "plt.show() \n",
    "print('done')"
   ]
  },
  {
   "cell_type": "markdown",
   "metadata": {},
   "source": [
    "## Below aree codes for bebop models\n"
   ]
  },
  {
   "cell_type": "code",
   "execution_count": 28,
   "metadata": {},
   "outputs": [],
   "source": [
    "import numpy as np\n",
    "\n",
    "from underactuated import PyPlotVisualizer\n",
    "from pydrake.systems.framework import BasicVector_, LeafSystem_, PortDataType\n",
    "from pydrake.systems.scalar_conversion import TemplateSystem\n",
    "from pydrake.systems.framework import (\n",
    "    BasicVector, BasicVector_\n",
    ")"
   ]
  },
  {
   "cell_type": "code",
   "execution_count": 18,
   "metadata": {},
   "outputs": [],
   "source": [
    "# Note: In order to use the Python system with drake's autodiff features, we\n",
    "# have to add a little \"TemplateSystem\" boilerplate (for now).  For details,\n",
    "# see https://drake.mit.edu/pydrake/pydrake.systems.scalar_conversion.html\n",
    "\n",
    "# TODO(russt): Clean this up pending any resolutions on\n",
    "#  https://github.com/RobotLocomotion/drake/issues/10745\n",
    "\n",
    "# todo: need to define each u and x \n",
    "@TemplateSystem.define(\"Quadrotor2D_\")\n",
    "def Quadrotor2D_(T):\n",
    "\n",
    "    class Impl(LeafSystem_[T]):\n",
    "        def _construct(self, converter=None):\n",
    "            LeafSystem_[T].__init__(self, converter)\n",
    "            # two inputs (thrust)\n",
    "            self.DeclareVectorInputPort(\"u\", BasicVector_[T](2))\n",
    "            # six outputs (full state)\n",
    "            self.DeclareVectorOutputPort(\"x\", BasicVector_[T](4),\n",
    "                                         self.CopyStateOut)\n",
    "            # three positions, three velocities\n",
    "            self.DeclareContinuousState(2, 2, 0)\n",
    "\n",
    "            # parameters based on [Bouadi, Bouchoucha, Tadjine, 2007]\n",
    "            #self.length = 0.25      # length of rotor arm\n",
    "            self.mass = 0.42       # mass of quadrotor\n",
    "            #self.inertia = 0.00383  # moment of inertia\n",
    "            self.gravity = 9.81     # gravity\n",
    "\n",
    "        def _construct_copy(self, other, converter=None):\n",
    "            Impl._construct(self, converter=converter)\n",
    "\n",
    "        def CopyStateOut(self, context, output):\n",
    "            x = context.get_continuous_state_vector().CopyToVector()\n",
    "            y = output.SetFromVector(x)\n",
    "\n",
    "        def DoCalcTimeDerivatives(self, context, derivatives):\n",
    "            x = context.get_continuous_state_vector().CopyToVector()\n",
    "            u = self.EvalVectorInput(context, 0).CopyToVector()\n",
    "            q = x[:2]\n",
    "            qdot = x[2:]\n",
    "            # all zeros?, the cos and sin below\n",
    "            qddot = np.array([self.mass*self.gravity*np.cos(0)*np.tan(u[0])-\n",
    "                              self.mass*self.gravity*np.sin(0)*np.tan(u[1]),\n",
    "                              self.mass*self.gravity*np.sin(0)*np.tan(u[1])+\n",
    "                              self.mass*self.gravity*np.cos(0)*np.tan(u[1])])\n",
    "            derivatives.get_mutable_vector().SetFromVector(\n",
    "                np.concatenate((qdot, qddot)))\n",
    "\n",
    "    return Impl\n",
    "\n",
    "\n",
    "bebop2d = Quadrotor2D_[None]  # Default instantiation\n"
   ]
  },
  {
   "cell_type": "code",
   "execution_count": 65,
   "metadata": {},
   "outputs": [
    {
     "data": {
      "text/plain": [
       "<pydrake.systems.scalar_conversion.Quadrotor2D_[float] at 0x7f4af6be4fa8>"
      ]
     },
     "execution_count": 65,
     "metadata": {},
     "output_type": "execute_result"
    }
   ],
   "source": [
    "Q = np.eye(4)*2\n",
    "R = np.eye(2)*2\n",
    "plant = bebop2d()\n",
    "plant"
   ]
  },
  {
   "cell_type": "code",
   "execution_count": 66,
   "metadata": {},
   "outputs": [
    {
     "data": {
      "text/plain": [
       "<pydrake.systems.framework.FixedInputPortValue at 0x7f4af6b98330>"
      ]
     },
     "execution_count": 66,
     "metadata": {},
     "output_type": "execute_result"
    }
   ],
   "source": [
    "context = plant.CreateDefaultContext()\n",
    "context.SetContinuousState(np.array([0, 0, 0, 0]))\n",
    "# plant.get_input_port(0).FixValue(context, 0)\n",
    "context.FixInputPort(index=0, data=[0.,0.])"
   ]
  },
  {
   "cell_type": "code",
   "execution_count": 67,
   "metadata": {},
   "outputs": [
    {
     "name": "stdout",
     "output_type": "stream",
     "text": [
      "taylor: <pydrake.systems.primitives.AffineSystem_[float] object at 0x7f4af6b7b270>\n",
      "taylor.A: [[0. 0. 1. 0.]\n",
      " [0. 0. 0. 1.]\n",
      " [0. 0. 0. 0.]\n",
      " [0. 0. 0. 0.]]\n",
      "taylor.B: [[0.     0.    ]\n",
      " [0.     0.    ]\n",
      " [4.1202 0.    ]\n",
      " [0.     4.1202]]\n",
      "context: ::_ Context\n",
      "------------\n",
      "Time: 0\n",
      "States:\n",
      "  4 continuous states\n",
      "    [0, 0, 0, 0]\n",
      "\n",
      "\n",
      "K: [[1.         0.         1.21877534 0.        ]\n",
      " [0.         1.         0.         1.21877534]]\n",
      "S: [[2.43755068 0.         0.48541333 0.        ]\n",
      " [0.         2.43755068 0.         0.48541333]\n",
      " [0.48541333 0.         0.5916098  0.        ]\n",
      " [0.         0.48541333 0.         0.5916098 ]]\n"
     ]
    }
   ],
   "source": [
    "context = plant.CreateDefaultContext()\n",
    "context.SetContinuousState(np.array([0, 0, 0, 0]))\n",
    "# plant.get_input_port(0).FixValue(context, 0)\n",
    "# context.FixInputPort(index=0, data=[0.,0.])#not sure if the data matters\n",
    "context.FixInputPort(index=0, vec=BasicVector([0.,0.]))#more ways \n",
    "\n",
    "affine_sys = FirstOrderTaylorApproximation(plant, context)\n",
    "K,S = LinearQuadraticRegulator(affine_sys.A(), affine_sys.B(),Q, R)\n",
    "\n",
    "print ('taylor:', affine_sys)\n",
    "print ('taylor.A:', affine_sys.A())\n",
    "print ('taylor.B:', affine_sys.B())\n",
    "print ('context:', context)\n",
    "print ('K:', K)\n",
    "print ('S:', S)"
   ]
  },
  {
   "cell_type": "markdown",
   "metadata": {},
   "source": [
    "## traj optimization with bebop model"
   ]
  },
  {
   "cell_type": "code",
   "execution_count": 201,
   "metadata": {},
   "outputs": [],
   "source": [
    "from pydrake.solvers.snopt import SnoptSolver"
   ]
  },
  {
   "cell_type": "code",
   "execution_count": 242,
   "metadata": {},
   "outputs": [
    {
     "name": "stdout",
     "output_type": "stream",
     "text": [
      "<pydrake.systems.scalar_conversion.Quadrotor2D_[float] object at 0x7f4af68fa5e8>\n",
      "[Variable('x(0)', Continuous) Variable('x(1)', Continuous)\n",
      " Variable('x(2)', Continuous) Variable('x(3)', Continuous)]\n",
      "[Variable('x(76)', Continuous) Variable('x(77)', Continuous)\n",
      " Variable('x(78)', Continuous) Variable('x(79)', Continuous)]\n",
      "<pydrake.solvers.mathematicalprogram.MathematicalProgramResult object at 0x7f4af6be6df0>\n",
      "SNOPT/fortran\n",
      "True\n",
      "SolutionResult.kSolutionFound\n",
      "<pydrake.trajectories.PiecewisePolynomial object at 0x7f4af6890df0>\n",
      "0.0\n",
      "0.19000000000000003\n",
      "<pydrake.trajectories.PiecewisePolynomial object at 0x7f4af69f9ab0>\n",
      "0.0\n",
      "0.19000000000000003\n"
     ]
    }
   ],
   "source": [
    "Q = np.eye(4)*2\n",
    "R = np.eye(2)*2\n",
    "plant = bebop2d()\n",
    "print(plant)\n",
    "\n",
    "context = plant.CreateDefaultContext()\n",
    "context.SetContinuousState(np.array([0, 0, 0, 0]))\n",
    "\n",
    "# plant.get_input_port(0).FixValue(context, 0)\n",
    "# context.FixInputPort(index=0, data=[0.,0.])#not sure if the data matters\n",
    "# context.FixInputPort(index=0, vec=BasicVector([0.,0.]))#more ways \n",
    "\n",
    "# affine_sys = FirstOrderTaylorApproximation(plant, context)\n",
    "# K,S = LinearQuadraticRegulator(affine_sys.A(), affine_sys.B(),Q, R)\n",
    "\n",
    "# print ('taylor:', affine_sys)\n",
    "# print ('taylor.A:', affine_sys.A())\n",
    "# print ('taylor.B:', affine_sys.B())\n",
    "# print ('context:', context)\n",
    "# print ('K:', K)\n",
    "# print ('S:', S)\n",
    "\n",
    "dircol = DirectCollocation(plant, context, num_time_samples=20,\n",
    "                            minimum_timestep=0.01, maximum_timestep=0.1)\n",
    " \n",
    "#dircol.AddEqualTimeIntervalsConstraints()\n",
    " \n",
    "input_limit = 30  # \n",
    "u = dircol.input()\n",
    "\n",
    "dircol.AddConstraintToAllKnotPoints(u[0] <= input_limit)\n",
    "dircol.AddConstraintToAllKnotPoints(u[0] >= -input_limit)\n",
    "dircol.AddConstraintToAllKnotPoints(u[1] <= input_limit)\n",
    "dircol.AddConstraintToAllKnotPoints(u[1] >= -input_limit)\n",
    "\n",
    "start_pt=np.array([[0],[0],[0],[0]],dtype=np.float64)\n",
    "end_pt=np.array([[3],[3],[0],[0]],dtype=np.float64)\n",
    "\n",
    "dircol.AddBoundingBoxConstraint(start_pt,\n",
    "                            start_pt,\n",
    "                            dircol.initial_state())\n",
    "dircol.AddBoundingBoxConstraint(end_pt,\n",
    "                            end_pt,\n",
    "                            dircol.final_state())\n",
    "\n",
    "print(dircol.initial_state())\n",
    "print(dircol.final_state())\n",
    "\n",
    "\n",
    "R = 10  # Cost on input \"effort\".\n",
    "# if constraints added, the problem is infeasible\n",
    "dircol.AddRunningCost(R)\n",
    "# dircol.AddRunningCost(R*u[0]**2+R*u[1]**2)\n",
    "# dircol.AddRunningCost(R*u[0]+R*u[1])\n",
    "\n",
    "\n",
    "# initial_x_trajectory = \\\n",
    "#         PiecewisePolynomial.FirstOrderHold([0., 4.],\n",
    "#                                  [initial_state.get_value(),\n",
    "#                                  final_state.get_value()])\n",
    "\n",
    "initial_u = PiecewisePolynomial.ZeroOrderHold([0, .5*40],#max step .5s, 30 steps\n",
    "                                            np.zeros((1, 2)))\n",
    "initial_x = PiecewisePolynomial()\n",
    "    \n",
    "dircol.SetInitialTrajectory(traj_init_u=initial_u,\n",
    "                            traj_init_x=initial_x) \n",
    "\n",
    "# dircol.SetSolverOption(SolverType.kSnopt,'Iterations limit',100000)\n",
    "# dircol.SetSolverOption(SolverType.kSnopt,'majoriterationslimit',500)\n",
    "# dircol.SetSolverOption(SolverType.kSnopt,'minoriterationslimit',1000)\n",
    "\n",
    "result = Solve(dircol) \n",
    "print(result)\n",
    "print(result.get_solver_id().name())\n",
    "print(result.is_success())\n",
    "print(result.get_solution_result())\n",
    "assert(result.get_solution_result() == SolutionResult.kSolutionFound) \n",
    "# assert(result == SolutionResult.kSolutionFound) \n",
    "x_trajectory = dircol.ReconstructStateTrajectory(result) \n",
    "print(x_trajectory)\n",
    "print(x_trajectory.start_time())\n",
    "print(x_trajectory.end_time())\n",
    "\n",
    "#construct u trajectory\n",
    "u_trajectory = dircol.ReconstructInputTrajectory(result) \n",
    "print(u_trajectory)\n",
    "print(u_trajectory.start_time())\n",
    "print(u_trajectory.end_time())\n",
    "\n",
    "#vis = PendulumVisualizer() \n",
    "#ani = vis.animate(x_trajectory, repeat=True) \n"
   ]
  },
  {
   "cell_type": "code",
   "execution_count": 209,
   "metadata": {},
   "outputs": [
    {
     "data": {
      "text/plain": [
       "{'Iterations limit': 100000}"
      ]
     },
     "execution_count": 209,
     "metadata": {},
     "output_type": "execute_result"
    }
   ],
   "source": [
    "dircol.GetSolverOptions(SnoptSolver().solver_id())"
   ]
  },
  {
   "cell_type": "code",
   "execution_count": 203,
   "metadata": {},
   "outputs": [
    {
     "data": {
      "text/plain": [
       "<pydrake.solvers.mathematicalprogram.SolverId at 0x7f4af6b23130>"
      ]
     },
     "execution_count": 203,
     "metadata": {},
     "output_type": "execute_result"
    }
   ],
   "source": [
    "SnoptSolver().solver_id()"
   ]
  },
  {
   "cell_type": "code",
   "execution_count": 204,
   "metadata": {},
   "outputs": [
    {
     "data": {
      "text/plain": [
       "{}"
      ]
     },
     "execution_count": 204,
     "metadata": {},
     "output_type": "execute_result"
    }
   ],
   "source": [
    "dircol = DirectCollocation(plant, context, num_time_samples=20,\n",
    "                            minimum_timestep=0.02, maximum_timestep=0.1)\n",
    "dircol.GetSolverOptions(SnoptSolver().solver_id())\n",
    "\n",
    "# dircol.GetSolverOptions(SolverType.kSnopt)\n",
    "\n",
    "# dircol.SetSolverOption(SolverType.kSnopt,'majoriterationslimit',50)\n",
    "# dircol.SetSolverOption(SolverType.kSnopt,'minoriterationslimit',100)\n",
    "# dircol.GetSolverOptions(SolverType.kSnopt)\n",
    "\n",
    "\n",
    "# SetOption(self: pydrake.solvers.mathematicalprogram.SolverOptions, solver_id: pydrake.solvers.mathematicalprogram.SolverId, solver_option: str, option_value: str) -> None"
   ]
  },
  {
   "cell_type": "code",
   "execution_count": 243,
   "metadata": {},
   "outputs": [
    {
     "name": "stdout",
     "output_type": "stream",
     "text": [
      "(2, 10000)\n",
      "x\n",
      "[0. 0. 0. 0.]\n",
      "[3. 3. 0. 0.]\n",
      "u\n",
      "1.5699582010573183\n",
      "-1.5704030588612552\n",
      "1.5699767185835227\n",
      "-1.5703847595021068\n"
     ]
    },
    {
     "data": {
      "image/png": "[encoded data removed]",
      "text/plain": [
       "<matplotlib.figure.Figure at 0x7f4af6a285c0>"
      ]
     },
     "metadata": {},
     "output_type": "display_data"
    },
    {
     "name": "stdout",
     "output_type": "stream",
     "text": [
      "done\n"
     ]
    }
   ],
   "source": [
    "time_series=np.linspace(x_trajectory.start_time(),                                          \n",
    "                      x_trajectory.end_time(), 10000)\n",
    "x_knots = np.hstack([x_trajectory.value(t) for t in                                          \n",
    "                      time_series])\n",
    "cmds = np.hstack([u_trajectory.value(t) for t in \n",
    "                  time_series])\n",
    "# x_knots = np.hstack([x_trajectory.value(t) for t in                                          \n",
    "#                       np.linspace(x_trajectory.start_time(),                                          \n",
    "#                       x_trajectory.end_time(), 100)]) \n",
    "\n",
    "# cmds = np.hstack([u_trajectory.value(t) for t in                                          \n",
    "#                       np.linspace(u_trajectory.start_time(),                                          \n",
    "#                       u_trajectory.end_time(), 10000)]) \n",
    "print(cmds.shape)\n",
    "plt.figure() \n",
    "plt.plot(x_knots[0, :], x_knots[1, :]) \n",
    "print(\"x\")\n",
    "print(x_knots[:,0])\n",
    "print(x_knots[:,-1])\n",
    "print(\"u\")\n",
    "print(cmds[0,0])\n",
    "print(cmds[0,-1])\n",
    "print(cmds[1,0])\n",
    "print(cmds[1,-1])\n",
    "plt.show() \n",
    "print('done')"
   ]
  },
  {
   "cell_type": "code",
   "execution_count": 244,
   "metadata": {},
   "outputs": [
    {
     "data": {
      "text/plain": [
       "0.19000000000000003"
      ]
     },
     "execution_count": 244,
     "metadata": {},
     "output_type": "execute_result"
    }
   ],
   "source": [
    "time_series[-1]"
   ]
  },
  {
   "cell_type": "code",
   "execution_count": 245,
   "metadata": {},
   "outputs": [
    {
     "data": {
      "image/png": "[encoded data removed]",
      "text/plain": [
       "<matplotlib.figure.Figure at 0x7f4af6c45d68>"
      ]
     },
     "metadata": {},
     "output_type": "display_data"
    }
   ],
   "source": [
    "plt.figure() \n",
    "plt.plot(cmds[0, :])#, x_knots[1, :]) \n",
    "plt.xlabel('time')\n",
    "plt.ylabel('control 0')\n",
    "plt.show() "
   ]
  },
  {
   "cell_type": "code",
   "execution_count": 246,
   "metadata": {},
   "outputs": [
    {
     "data": {
      "image/png": "[encoded data removed]",
      "text/plain": [
       "<matplotlib.figure.Figure at 0x7f4af68df278>"
      ]
     },
     "metadata": {},
     "output_type": "display_data"
    }
   ],
   "source": [
    "plt.figure() \n",
    "plt.plot(cmds[1, :])#, x_knots[1, :]) \n",
    "plt.xlabel('time')\n",
    "plt.ylabel('control 1')\n",
    "plt.show() "
   ]
  },
  {
   "cell_type": "markdown",
   "metadata": {},
   "source": [
    "## sometimes this runs, sometimes it doesn't give a result"
   ]
  },
  {
   "cell_type": "code",
   "execution_count": 90,
   "metadata": {},
   "outputs": [],
   "source": [
    "traj=PiecewisePolynomial.ZeroOrderHold([0, .5],\n",
    "                                            np.zeros((1, 2)))"
   ]
  },
  {
   "cell_type": "code",
   "execution_count": 91,
   "metadata": {},
   "outputs": [
    {
     "data": {
      "text/plain": [
       "array([[0., 0., 0., 0., 0., 0., 0., 0., 0., 0., 0., 0., 0., 0., 0., 0.,\n",
       "        0., 0., 0., 0., 0., 0., 0., 0., 0., 0., 0., 0., 0., 0., 0., 0.,\n",
       "        0., 0., 0., 0., 0., 0., 0., 0., 0., 0., 0., 0., 0., 0., 0., 0.,\n",
       "        0., 0., 0., 0., 0., 0., 0., 0., 0., 0., 0., 0., 0., 0., 0., 0.,\n",
       "        0., 0., 0., 0., 0., 0., 0., 0., 0., 0., 0., 0., 0., 0., 0., 0.,\n",
       "        0., 0., 0., 0., 0., 0., 0., 0., 0., 0., 0., 0., 0., 0., 0., 0.,\n",
       "        0., 0., 0., 0., 0., 0., 0., 0., 0., 0., 0., 0., 0., 0., 0., 0.,\n",
       "        0., 0., 0., 0., 0., 0., 0., 0., 0., 0., 0., 0., 0., 0., 0., 0.,\n",
       "        0., 0., 0., 0., 0., 0., 0., 0., 0., 0., 0., 0., 0., 0., 0., 0.,\n",
       "        0., 0., 0., 0., 0., 0., 0., 0., 0., 0., 0., 0., 0., 0., 0., 0.,\n",
       "        0., 0., 0., 0., 0., 0., 0., 0., 0., 0., 0., 0., 0., 0., 0., 0.,\n",
       "        0., 0., 0., 0., 0., 0., 0., 0., 0., 0., 0., 0., 0., 0., 0., 0.,\n",
       "        0., 0., 0., 0., 0., 0., 0., 0., 0., 0., 0., 0., 0., 0., 0., 0.,\n",
       "        0., 0., 0., 0., 0., 0., 0., 0., 0., 0., 0., 0., 0., 0., 0., 0.,\n",
       "        0., 0., 0., 0., 0., 0., 0., 0., 0., 0., 0., 0., 0., 0., 0., 0.,\n",
       "        0., 0., 0., 0., 0., 0., 0., 0., 0., 0., 0., 0., 0., 0., 0., 0.,\n",
       "        0., 0., 0., 0., 0., 0., 0., 0., 0., 0., 0., 0., 0., 0., 0., 0.,\n",
       "        0., 0., 0., 0., 0., 0., 0., 0., 0., 0., 0., 0., 0., 0., 0., 0.,\n",
       "        0., 0., 0., 0., 0., 0., 0., 0., 0., 0., 0., 0., 0., 0., 0., 0.,\n",
       "        0., 0., 0., 0., 0., 0., 0., 0., 0., 0., 0., 0., 0., 0., 0., 0.,\n",
       "        0., 0., 0., 0., 0., 0., 0., 0., 0., 0., 0., 0., 0., 0., 0., 0.,\n",
       "        0., 0., 0., 0., 0., 0., 0., 0., 0., 0., 0., 0., 0., 0., 0., 0.,\n",
       "        0., 0., 0., 0., 0., 0., 0., 0., 0., 0., 0., 0., 0., 0., 0., 0.,\n",
       "        0., 0., 0., 0., 0., 0., 0., 0., 0., 0., 0., 0., 0., 0., 0., 0.,\n",
       "        0., 0., 0., 0., 0., 0., 0., 0., 0., 0., 0., 0., 0., 0., 0., 0.,\n",
       "        0., 0., 0., 0., 0., 0., 0., 0., 0., 0., 0., 0., 0., 0., 0., 0.,\n",
       "        0., 0., 0., 0., 0., 0., 0., 0., 0., 0., 0., 0., 0., 0., 0., 0.,\n",
       "        0., 0., 0., 0., 0., 0., 0., 0., 0., 0., 0., 0., 0., 0., 0., 0.,\n",
       "        0., 0., 0., 0., 0., 0., 0., 0., 0., 0., 0., 0., 0., 0., 0., 0.,\n",
       "        0., 0., 0., 0., 0., 0., 0., 0., 0., 0., 0., 0., 0., 0., 0., 0.,\n",
       "        0., 0., 0., 0., 0., 0., 0., 0., 0., 0., 0., 0., 0., 0., 0., 0.,\n",
       "        0., 0., 0., 0., 0., 0., 0., 0., 0., 0., 0., 0., 0., 0., 0., 0.,\n",
       "        0., 0., 0., 0., 0., 0., 0., 0., 0., 0., 0., 0., 0., 0., 0., 0.,\n",
       "        0., 0., 0., 0., 0., 0., 0., 0., 0., 0., 0., 0., 0., 0., 0., 0.,\n",
       "        0., 0., 0., 0., 0., 0., 0., 0., 0., 0., 0., 0., 0., 0., 0., 0.,\n",
       "        0., 0., 0., 0., 0., 0., 0., 0., 0., 0., 0., 0., 0., 0., 0., 0.,\n",
       "        0., 0., 0., 0., 0., 0., 0., 0., 0., 0., 0., 0., 0., 0., 0., 0.,\n",
       "        0., 0., 0., 0., 0., 0., 0., 0., 0., 0., 0., 0., 0., 0., 0., 0.,\n",
       "        0., 0., 0., 0., 0., 0., 0., 0., 0., 0., 0., 0., 0., 0., 0., 0.,\n",
       "        0., 0., 0., 0., 0., 0., 0., 0., 0., 0., 0., 0., 0., 0., 0., 0.,\n",
       "        0., 0., 0., 0., 0., 0., 0., 0., 0., 0., 0., 0., 0., 0., 0., 0.,\n",
       "        0., 0., 0., 0., 0., 0., 0., 0., 0., 0., 0., 0., 0., 0., 0., 0.,\n",
       "        0., 0., 0., 0., 0., 0., 0., 0., 0., 0., 0., 0., 0., 0., 0., 0.,\n",
       "        0., 0., 0., 0., 0., 0., 0., 0., 0., 0., 0., 0., 0., 0., 0., 0.,\n",
       "        0., 0., 0., 0., 0., 0., 0., 0., 0., 0., 0., 0., 0., 0., 0., 0.,\n",
       "        0., 0., 0., 0., 0., 0., 0., 0., 0., 0., 0., 0., 0., 0., 0., 0.,\n",
       "        0., 0., 0., 0., 0., 0., 0., 0., 0., 0., 0., 0., 0., 0., 0., 0.,\n",
       "        0., 0., 0., 0., 0., 0., 0., 0., 0., 0., 0., 0., 0., 0., 0., 0.,\n",
       "        0., 0., 0., 0., 0., 0., 0., 0., 0., 0., 0., 0., 0., 0., 0., 0.,\n",
       "        0., 0., 0., 0., 0., 0., 0., 0., 0., 0., 0., 0., 0., 0., 0., 0.,\n",
       "        0., 0., 0., 0., 0., 0., 0., 0., 0., 0., 0., 0., 0., 0., 0., 0.,\n",
       "        0., 0., 0., 0., 0., 0., 0., 0., 0., 0., 0., 0., 0., 0., 0., 0.,\n",
       "        0., 0., 0., 0., 0., 0., 0., 0., 0., 0., 0., 0., 0., 0., 0., 0.,\n",
       "        0., 0., 0., 0., 0., 0., 0., 0., 0., 0., 0., 0., 0., 0., 0., 0.,\n",
       "        0., 0., 0., 0., 0., 0., 0., 0., 0., 0., 0., 0., 0., 0., 0., 0.,\n",
       "        0., 0., 0., 0., 0., 0., 0., 0., 0., 0., 0., 0., 0., 0., 0., 0.,\n",
       "        0., 0., 0., 0., 0., 0., 0., 0., 0., 0., 0., 0., 0., 0., 0., 0.,\n",
       "        0., 0., 0., 0., 0., 0., 0., 0., 0., 0., 0., 0., 0., 0., 0., 0.,\n",
       "        0., 0., 0., 0., 0., 0., 0., 0., 0., 0., 0., 0., 0., 0., 0., 0.,\n",
       "        0., 0., 0., 0., 0., 0., 0., 0., 0., 0., 0., 0., 0., 0., 0., 0.,\n",
       "        0., 0., 0., 0., 0., 0., 0., 0., 0., 0., 0., 0., 0., 0., 0., 0.,\n",
       "        0., 0., 0., 0., 0., 0., 0., 0., 0., 0., 0., 0., 0., 0., 0., 0.,\n",
       "        0., 0., 0., 0., 0., 0., 0., 0.]])"
      ]
     },
     "execution_count": 91,
     "metadata": {},
     "output_type": "execute_result"
    }
   ],
   "source": [
    "init_pt = np.hstack([traj.value(t) for t in                                          \n",
    "                      time_series])\n",
    "init_pt\n",
    "# plt.figure() \n",
    "# plt.plot(cmds[1, :])#, x_knots[1, :]) \n",
    "# plt.xlabel('time')\n",
    "# plt.ylabel('control 1')\n",
    "# plt.show() \n"
   ]
  },
  {
   "cell_type": "code",
   "execution_count": 37,
   "metadata": {},
   "outputs": [
    {
     "data": {
      "text/plain": [
       "<function ndarray.item>"
      ]
     },
     "execution_count": 37,
     "metadata": {},
     "output_type": "execute_result"
    }
   ],
   "source": [
    "ini_sta=dircol.initial_state()\n",
    "ini_sta.item"
   ]
  },
  {
   "cell_type": "code",
   "execution_count": null,
   "metadata": {},
   "outputs": [],
   "source": [
    "\n",
    "R = 10  # Cost on input \"effort\".\n",
    "dircol.AddRunningCost(R*u[0]**2)\n",
    " \n",
    "initial_x_trajectory = \\\n",
    "        PiecewisePolynomial.FirstOrderHold([0., 4.],\n",
    "                                 [initial_state.get_value(),\n",
    "                                 final_state.get_value()])\n",
    "dircol.SetInitialTrajectory(PiecewisePolynomial(), \n",
    "                            initial_x_trajectory) \n",
    "# result = dircol.Solve()\n",
    "result = Solve(dircol) \n",
    "print(result)\n",
    "print(result.get_solver_id().name())\n",
    "print(result.is_success())\n",
    "print(result.get_solution_result())\n",
    "assert(result.get_solution_result() == SolutionResult.kSolutionFound) \n",
    "# assert(result == SolutionResult.kSolutionFound) \n",
    "x_trajectory = dircol.ReconstructStateTrajectory(result) \n",
    "print(x_trajectory)\n",
    "print(x_trajectory.start_time())\n",
    "print(x_trajectory.end_time())\n",
    "\n",
    "#construct u trajectory\n",
    "u_trajectory = dircol.ReconstructInputTrajectory(result) \n",
    "print(u_trajectory)\n",
    "print(u_trajectory.start_time())\n",
    "print(u_trajectory.end_time())\n",
    "\n",
    "#vis = PendulumVisualizer() \n",
    "#ani = vis.animate(x_trajectory, repeat=True) \n",
    "time_series=np.linspace(x_trajectory.start_time(),                                          \n",
    "                      x_trajectory.end_time(), 100)\n",
    "x_knots = np.hstack([x_trajectory.value(t) for t in                                          \n",
    "                      time_series])\n",
    "# x_knots = np.hstack([x_trajectory.value(t) for t in                                          \n",
    "#                       np.linspace(x_trajectory.start_time(),                                          \n",
    "#                       x_trajectory.end_time(), 100)]) \n",
    "\n",
    "cmds = np.hstack([u_trajectory.value(t) for t in                                          \n",
    "                      np.linspace(u_trajectory.start_time(),                                          \n",
    "                      u_trajectory.end_time(), 100)]) \n",
    "print(cmds.shape)\n",
    "plt.figure() \n",
    "plt.plot(x_knots[0, :], x_knots[1, :]) \n",
    "print(\"x\")\n",
    "print(x_knots[:,0])\n",
    "print(x_knots[:,-1])\n",
    "print(\"u\")\n",
    "print(cmds[0,0])\n",
    "print(cmds[0,-1])\n",
    "plt.show() \n",
    "print('done')"
   ]
  },
  {
   "cell_type": "code",
   "execution_count": null,
   "metadata": {},
   "outputs": [],
   "source": []
  }
 ],
 "metadata": {
  "kernelspec": {
   "display_name": "Python 3",
   "language": "python",
   "name": "python3"
  },
  "language_info": {
   "codemirror_mode": {
    "name": "ipython",
    "version": 3
   },
   "file_extension": ".py",
   "mimetype": "text/x-python",
   "name": "python",
   "nbconvert_exporter": "python",
   "pygments_lexer": "ipython3",
   "version": "3.6.9"
  }
 },
 "nbformat": 4,
 "nbformat_minor": 4
}
